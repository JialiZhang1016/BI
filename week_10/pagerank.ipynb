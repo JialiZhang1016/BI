{
 "cells": [
  {
   "cell_type": "markdown",
   "metadata": {
    "toc": true
   },
   "source": [
    "<h1>Table of Contents<span class=\"tocSkip\"></span></h1>\n",
    "<div class=\"toc\"><ul class=\"toc-item\"><li><span><a href=\"#1.-load-the-package\" data-toc-modified-id=\"1.-load-the-package-1\">1. load the package</a></span></li><li><span><a href=\"#2.-define-the-graph\" data-toc-modified-id=\"2.-define-the-graph-2\">2. define the graph</a></span></li><li><span><a href=\"#3.-define-the-pagerank-function\" data-toc-modified-id=\"3.-define-the-pagerank-function-3\">3. define the pagerank function</a></span></li></ul></div>"
   ]
  },
  {
   "cell_type": "markdown",
   "metadata": {},
   "source": [
    "## 1. load the package"
   ]
  },
  {
   "cell_type": "code",
   "execution_count": 1,
   "metadata": {},
   "outputs": [],
   "source": [
    "import numpy as np"
   ]
  },
  {
   "cell_type": "markdown",
   "metadata": {},
   "source": [
    "## 2. define the graph"
   ]
  },
  {
   "cell_type": "code",
   "execution_count": 2,
   "metadata": {},
   "outputs": [],
   "source": [
    "graph = [\n",
    "    ('A', 'F'), ('A', 'D'), ('A', 'B'), ('A', 'E'),\n",
    "    ('B', 'C'),\n",
    "    ('C', 'E'),\n",
    "    ('D', 'A'), ('D', 'E'), ('D', 'C'),\n",
    "    ('E', 'C'), ('E', 'B'),\n",
    "    ('F', 'D')\n",
    "]"
   ]
  },
  {
   "cell_type": "markdown",
   "metadata": {},
   "source": [
    "## 3. define the pagerank function"
   ]
  },
  {
   "cell_type": "code",
   "execution_count": 3,
   "metadata": {},
   "outputs": [],
   "source": [
    "def graph_to_matrix(graph):\n",
    "    nodes_to_idx = {x: idx for idx, x in enumerate(set([y for x in graph for y in x]))}\n",
    "    idx_to_nodes = {idx: x for idx, x in enumerate(set([y for x in graph for y in x]))}\n",
    "    graph_idx = [(nodes_to_idx[x], nodes_to_idx[y]) for x, y in graph]\n",
    "    matrix = np.zeros(shape=(len(nodes_to_idx), len(nodes_to_idx)))\n",
    "    for x, y in graph_idx:\n",
    "        matrix[y][x] = 1\n",
    "    matrix = matrix / matrix.sum(axis=0)\n",
    "    return idx_to_nodes, matrix    \n",
    "\n",
    "def pagerank(graph_matrix, random=False, d=0.85):\n",
    "    w = np.array([np.ones(shape=graph_matrix.shape[0])]).T\n",
    "    w = w / w.sum()\n",
    "    for i in range(100):\n",
    "        if random:\n",
    "            w = np.dot(graph_matrix, w) * d + (1-d) / len(w)\n",
    "        else:\n",
    "            w = np.dot(graph_matrix, w)\n",
    "    result = {x:y for x, y in enumerate(w.reshape(1, -1).tolist()[0])}\n",
    "    result = dict(sorted(result.items(), key=lambda x: x[1], reverse=True))\n",
    "    return result"
   ]
  },
  {
   "cell_type": "markdown",
   "metadata": {},
   "source": [
    "## 4. get the pagerank in te"
   ]
  },
  {
   "cell_type": "code",
   "execution_count": 4,
   "metadata": {},
   "outputs": [
    {
     "name": "stdout",
     "output_type": "stream",
     "text": [
      "基础模式：{'C': 0.4, 'E': 0.3999999999999999, 'B': 0.19999999999999996, 'D': 2.2186712974496744e-31, 'A': 1.479114197434098e-31, 'F': 7.395570977783761e-32}\n",
      "随机模式：{'E': 0.3590238383617199, 'C': 0.35805992343008974, 'B': 0.18498105036763965, 'D': 0.0444986138992448, 'A': 0.030016250836440106, 'F': 0.023420323104865685}\n"
     ]
    }
   ],
   "source": [
    "nodes, matrix = graph_to_matrix(graph)\n",
    "result_base = pagerank(matrix)\n",
    "res = {nodes[x]: y for x, y in result_base.items()}\n",
    "\n",
    "print('基础模式：{}'.format(res))\n",
    "result_random = pagerank(matrix, random=True, d=0.9)\n",
    "res = {nodes[x]: y for x, y in result_random.items()}\n",
    "print('随机模式：{}'.format(res))"
   ]
  },
  {
   "cell_type": "code",
   "execution_count": null,
   "metadata": {},
   "outputs": [],
   "source": []
  },
  {
   "cell_type": "code",
   "execution_count": null,
   "metadata": {},
   "outputs": [],
   "source": []
  }
 ],
 "metadata": {
  "kernelspec": {
   "display_name": "Python 3",
   "language": "python",
   "name": "python3"
  },
  "language_info": {
   "codemirror_mode": {
    "name": "ipython",
    "version": 3
   },
   "file_extension": ".py",
   "mimetype": "text/x-python",
   "name": "python",
   "nbconvert_exporter": "python",
   "pygments_lexer": "ipython3",
   "version": "3.7.4"
  },
  "toc": {
   "base_numbering": 1,
   "nav_menu": {},
   "number_sections": false,
   "sideBar": true,
   "skip_h1_title": false,
   "title_cell": "Table of Contents",
   "title_sidebar": "Contents",
   "toc_cell": true,
   "toc_position": {},
   "toc_section_display": true,
   "toc_window_display": true
  }
 },
 "nbformat": 4,
 "nbformat_minor": 2
}
