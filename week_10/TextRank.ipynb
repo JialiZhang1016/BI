{
 "cells": [
  {
   "cell_type": "code",
   "execution_count": 1,
   "metadata": {},
   "outputs": [],
   "source": [
    "import pandas as pd\n",
    "from jieba.analyse import textrank\n",
    "from jieba.analyse import extract_tags\n",
    "from textrank4zh import TextRank4Keyword\n",
    "from textrank4zh import TextRank4Sentence\n",
    "import jieba"
   ]
  },
  {
   "cell_type": "code",
   "execution_count": 2,
   "metadata": {},
   "outputs": [
    {
     "name": "stdout",
     "output_type": "stream",
     "text": [
      "                                                   0\n",
      "0  7月23日，在万般期待中，各地2020年高考录取分数线陆续公布，拿到分数后的考生们可谓有人欢...\n",
      "1  7月23日，毛坦厂中学所在的安徽六安市毛坦厂镇官方发布喜报称，根据网络查询，六安市毛坦厂中学...\n",
      "2  据悉，毛坦厂镇面积只有3.5平方公里，人口不过万余人，从1999年后，毛坦厂中学借高考复读声...\n"
     ]
    }
   ],
   "source": [
    "text = pd.read_csv('./news_高考.txt',header=None)\n",
    "print(text)"
   ]
  },
  {
   "cell_type": "code",
   "execution_count": 3,
   "metadata": {},
   "outputs": [
    {
     "name": "stdout",
     "output_type": "stream",
     "text": [
      "7月23日，在万般期待中，各地2020年高考录取分数线陆续公布，拿到分数后的考生们可谓有人欢喜有人愁。安徽省当天也公布了录取分数线，其中文理科一本分数线分别为541分和515分，二本分数线分别为499分和435分。那么被称为亚洲最大的“高考工厂”毛坦厂中学高考成绩怎样？图为毛坦厂中学教室午休的考生。7月23日，毛坦厂中学所在的安徽六安市毛坦厂镇官方发布喜报称，根据网络查询，六安市毛坦厂中学、金安高级中学、金安中学补习班2020年高考再创佳绩，再传捷报，安徽籍考生（不含外省考生）本科达线人数10176人，其中600分以上600分以上290人，理科最高分674分，文科最高分608分。也就是在2020年高考中，高考镇有1万多人达到本科线，听起来多少有点让人吃惊，这个数字还不包括其他十几个省份在毛坦厂复读的数百名考生。图为高考镇放学盛大的场面。今年的高考很特殊，因为疫情课业停摆两个多月，随后高考推迟一个月才考试，而就在考试进行时，安徽歙县因为洪水语文和数学被延期考试，湖北黄梅的考生硬是蹚水去考场，而云南一地的考生，考试时还发生了地震。图为高考前，高考镇的卡点。毛坦厂镇因为高考而驰名，被称为“亚洲最大的高考工厂”，外媒曾称该镇是一座偏僻的单一产业城镇，出产的是应试机器，就像其他一些专门生产袜子或圣诞饰品的中国乡镇一样心无旁骛。毛坦厂镇今年参加高考的考生人数超过1.7万人，涉及全国十多个省份。图为考生在上晚自习。据悉，毛坦厂镇面积只有3.5平方公里，人口不过万余人，从1999年后，毛坦厂中学借高考复读声名鹊起，每年都要吸引2万多学生和1万多陪读家长，整个小镇接近5万人。租房、生活、学习，众多学生和家长的到来，小镇的经济都围绕着“高考”在转。图为每天早晨，陪读家长在洗衣。在高考前，为了保障高考的顺利进行，高考镇实行了史上最严的“封锁”，在疫情开始之初，通往毛坦厂镇的所有道路都被切断，4月初，安徽省境内高三年级开始复课之后，因为外来复读学生较多，毛坦厂镇曾经短暂对外地家长和考生开放了几天，随之又实行严格管控，一直到7月5日考生离开高考镇时才解封。图为高考前，考生进入学校测量体温。也正是如此，今年的高考镇比往年低调了很多，连往年最热闹的送考节也没有举行，而是和其他所有普通学校一样，用几辆大巴将考生送到市区考试。图为往年的送考节。和衡水中学不一样，到高考镇来学习的都是普通考生，还有很多“落榜”生。有人说，高考镇太过严格，然而今年1万多人达本科线，意味着经过一年的努力，这一万多名考生或将改变命运，或许这就是高考镇存在的意义。\n"
     ]
    }
   ],
   "source": [
    "#构建训练用的文本\n",
    "artical = text[0].values[0] + text[0].values[1] +text[0].values[2]\n",
    "print(artical)"
   ]
  },
  {
   "cell_type": "code",
   "execution_count": 4,
   "metadata": {},
   "outputs": [
    {
     "name": "stderr",
     "output_type": "stream",
     "text": [
      "Building prefix dict from the default dictionary ...\n",
      "Loading model from cache C:\\Users\\JIALIZ~1\\AppData\\Local\\Temp\\jieba.cache\n",
      "Loading model cost 0.612 seconds.\n",
      "Prefix dict has been built successfully.\n"
     ]
    },
    {
     "data": {
      "text/plain": [
       "[('高考', 1.0),\n",
       " ('考生', 0.5315578518179578),\n",
       " ('坦厂', 0.2529998585556809),\n",
       " ('厂镇', 0.2329500703469224),\n",
       " ('中学', 0.2147457817911991),\n",
       " ('家长', 0.14895741464465356),\n",
       " ('省份', 0.13300992327508993),\n",
       " ('分数线', 0.1290732135980649)]"
      ]
     },
     "execution_count": 4,
     "metadata": {},
     "output_type": "execute_result"
    }
   ],
   "source": [
    "# 使用 textrank 提取关键词\n",
    "textrank(artical, topK=8, withWeight=True, allowPOS=('n', 'v'))"
   ]
  },
  {
   "cell_type": "code",
   "execution_count": 5,
   "metadata": {},
   "outputs": [
    {
     "data": {
      "text/plain": [
       "[('高考', 1.185618938564246),\n",
       " ('考生', 0.6720791619201117),\n",
       " ('坦厂', 0.4007184637843575),\n",
       " ('厂镇', 0.4007184637843575),\n",
       " ('中学', 0.28075286959960893),\n",
       " ('分数线', 0.2386994821698324),\n",
       " ('复读', 0.18650428373798883),\n",
       " ('家长', 0.1691833909821229)]"
      ]
     },
     "execution_count": 5,
     "metadata": {},
     "output_type": "execute_result"
    }
   ],
   "source": [
    "# 使用 TF-IDF 提取关键词\n",
    "extract_tags(artical, topK=8, withWeight=True, allowPOS=('n', 'v'))"
   ]
  },
  {
   "cell_type": "code",
   "execution_count": 6,
   "metadata": {},
   "outputs": [
    {
     "name": "stdout",
     "output_type": "stream",
     "text": [
      "高考 0.0561910284818324\n",
      "考生 0.04229947253711349\n",
      "中学 0.01564725882438625\n",
      "厂镇 0.015270437153080206\n",
      "坦厂 0.01342788926095217\n",
      "考试 0.012890430450963762\n",
      "毛坦 0.012374789433256666\n",
      "安徽 0.011541890740988228\n"
     ]
    }
   ],
   "source": [
    "# 使用textrank4zh提取关键词\n",
    "model = TextRank4Keyword()\n",
    "model.analyze(artical, window=3)\n",
    "for item in model.get_keywords(num=8, word_min_len=2):\n",
    "    print(item.word, item.weight)"
   ]
  },
  {
   "cell_type": "code",
   "execution_count": 7,
   "metadata": {},
   "outputs": [
    {
     "name": "stdout",
     "output_type": "stream",
     "text": [
      "4 0.06799640479282443 7月23日，毛坦厂中学所在的安徽六安市毛坦厂镇官方发布喜报称，根据网络查询，六安市毛坦厂中学、金安高级中学、金安中学补习班2020年高考再创佳绩，再传捷报，安徽籍考生（不含外省考生）本科达线人数10176人，其中600分以上600分以上290人，理科最高分674分，文科最高分608分\n",
      "12 0.06192582599548609 据悉，毛坦厂镇面积只有3.5平方公里，人口不过万余人，从1999年后，毛坦厂中学借高考复读声名鹊起，每年都要吸引2万多学生和1万多陪读家长，整个小镇接近5万人\n",
      "15 0.05979224551975722 在高考前，为了保障高考的顺利进行，高考镇实行了史上最严的“封锁”，在疫情开始之初，通往毛坦厂镇的所有道路都被切断，4月初，安徽省境内高三年级开始复课之后，因为外来复读学生较多，毛坦厂镇曾经短暂对外地家长和考生开放了几天，随之又实行严格管控，一直到7月5日考生离开高考镇时才解封\n"
     ]
    }
   ],
   "source": [
    "# 关键句提取\n",
    "model = TextRank4Sentence()\n",
    "model.analyze(artical, source='all_filters')\n",
    "for item in model.get_key_sentences(num=3):\n",
    "    print(item.index, item.weight, item.sentence)"
   ]
  }
 ],
 "metadata": {
  "kernelspec": {
   "display_name": "Python 3",
   "language": "python",
   "name": "python3"
  },
  "language_info": {
   "codemirror_mode": {
    "name": "ipython",
    "version": 3
   },
   "file_extension": ".py",
   "mimetype": "text/x-python",
   "name": "python",
   "nbconvert_exporter": "python",
   "pygments_lexer": "ipython3",
   "version": "3.7.4"
  },
  "toc": {
   "base_numbering": 1,
   "nav_menu": {},
   "number_sections": true,
   "sideBar": true,
   "skip_h1_title": false,
   "title_cell": "Table of Contents",
   "title_sidebar": "Contents",
   "toc_cell": false,
   "toc_position": {},
   "toc_section_display": true,
   "toc_window_display": false
  }
 },
 "nbformat": 4,
 "nbformat_minor": 2
}
