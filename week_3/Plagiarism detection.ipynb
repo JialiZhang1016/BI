{
 "cells": [
  {
   "cell_type": "markdown",
   "metadata": {},
   "source": [
    "## 1. Import packages"
   ]
  },
  {
   "cell_type": "code",
   "execution_count": 189,
   "metadata": {},
   "outputs": [],
   "source": [
    "import pickle, os\n",
    "import jieba  \n",
    "import numpy as np\n",
    "import pandas as pd\n",
    "from sklearn.cluster import KMeans \n",
    "from collections import defaultdict\n",
    "from matplotlib import pyplot as plt\n",
    "from sklearn.preprocessing import Normalizer \n",
    "from sklearn.naive_bayes import MultinomialNB\n",
    "from sklearn.model_selection import train_test_split \n",
    "from sklearn.feature_extraction.text import CountVectorizer, TfidfTransformer \n",
    "from sklearn.metrics import classification_report\n",
    "from sklearn.metrics.pairwise import cosine_similarity"
   ]
  },
  {
   "cell_type": "markdown",
   "metadata": {},
   "source": [
    "## 2. Load data"
   ]
  },
  {
   "cell_type": "code",
   "execution_count": 136,
   "metadata": {},
   "outputs": [
    {
     "name": "stdout",
     "output_type": "stream",
     "text": [
      "======================================== shape of the news dataset\n",
      "(89611, 7)\n",
      "======================================== information of the news dataset\n",
      "<class 'pandas.core.frame.DataFrame'>\n",
      "RangeIndex: 89611 entries, 0 to 89610\n",
      "Data columns (total 7 columns):\n",
      "id         89611 non-null int64\n",
      "author     79396 non-null object\n",
      "source     89609 non-null object\n",
      "content    87054 non-null object\n",
      "feature    89611 non-null object\n",
      "title      89577 non-null object\n",
      "url        87144 non-null object\n",
      "dtypes: int64(1), object(6)\n",
      "memory usage: 4.8+ MB\n",
      "None\n",
      "======================================== check the first 5 items of the news\n",
      "      id      author                  source  \\\n",
      "0  89617         NaN  快科技@http://www.kkj.cn/   \n",
      "1  89616         NaN  快科技@http://www.kkj.cn/   \n",
      "2  89615         NaN  快科技@http://www.kkj.cn/   \n",
      "3  89614         NaN                     新华社   \n",
      "4  89613  胡淑丽_MN7479                   深圳大件事   \n",
      "\n",
      "                                             content  \\\n",
      "0  此外，自本周（6月12日）起，除小米手机6等15款机型外，其余机型已暂停更新发布（含开发版/...   \n",
      "1  骁龙835作为唯一通过Windows 10桌面平台认证的ARM处理器，高通强调，不会因为只考...   \n",
      "2  此前的一加3T搭载的是3400mAh电池，DashCharge快充规格为5V/4A。\\r\\n...   \n",
      "3    这是6月18日在葡萄牙中部大佩德罗冈地区拍摄的被森林大火烧毁的汽车。新华社记者张立云摄\\r\\n   \n",
      "4  （原标题：44岁女子跑深圳约会网友被拒，暴雨中裸身奔走……）\\r\\n@深圳交警微博称：昨日清...   \n",
      "\n",
      "                                             feature  \\\n",
      "0  {\"type\":\"科技\",\"site\":\"cnbeta\",\"commentNum\":\"37\"...   \n",
      "1  {\"type\":\"科技\",\"site\":\"cnbeta\",\"commentNum\":\"15\"...   \n",
      "2  {\"type\":\"科技\",\"site\":\"cnbeta\",\"commentNum\":\"18\"...   \n",
      "3  {\"type\":\"国际新闻\",\"site\":\"环球\",\"commentNum\":\"0\",\"j...   \n",
      "4  {\"type\":\"新闻\",\"site\":\"网易热门\",\"commentNum\":\"978\",...   \n",
      "\n",
      "                           title  \\\n",
      "0           小米MIUI 9首批机型曝光：共计15款   \n",
      "1     骁龙835在Windows 10上的性能表现有望改善   \n",
      "2      一加手机5细节曝光：3300mAh、充半小时用1天   \n",
      "3  葡森林火灾造成至少62人死亡 政府宣布进入紧急状态（组图）   \n",
      "4       44岁女子约网友被拒暴雨中裸奔 交警为其披衣相随   \n",
      "\n",
      "                                                 url  \n",
      "0     http://www.cnbeta.com/articles/tech/623597.htm  \n",
      "1     http://www.cnbeta.com/articles/tech/623599.htm  \n",
      "2     http://www.cnbeta.com/articles/tech/623601.htm  \n",
      "3  http://world.huanqiu.com/hot/2017-06/10866126....  \n",
      "4  http://news.163.com/17/0618/00/CN617P3Q0001875...  \n",
      "======================================== stop words\n",
      "['，', '的', '。', '、', '在', '了', '是', '\\u3000', '“', '”', '和', '年', '月', '：', '也', '）', '为', '（', '有', '%', '日', '将', '中', '-', '到', '与', '对', ':', '\\xa0', '上']\n"
     ]
    }
   ],
   "source": [
    "news = pd.read_csv('sqlResult.csv', encoding='gb18030')\n",
    "\n",
    "print('='*40,\"shape of the news dataset\",)\n",
    "print(news.shape)\n",
    "print('='*40,\"information of the news dataset\")\n",
    "print(news.info())\n",
    "print('='*40,\"check the first 5 items of the news\")\n",
    "print(news.head(5))\n",
    "\n",
    "\n",
    "with open('chinese_stopwords.txt', 'r', encoding='utf-8') as file:\n",
    "    stopwords = [line[:-1] for line in file.readlines()]\n",
    "\n",
    "print('='*40,\"stop words\")\n",
    "print(stopwords[:30])"
   ]
  },
  {
   "cell_type": "markdown",
   "metadata": {},
   "source": [
    "## 3. Clean data"
   ]
  },
  {
   "cell_type": "code",
   "execution_count": 137,
   "metadata": {},
   "outputs": [
    {
     "name": "stdout",
     "output_type": "stream",
     "text": [
      "<class 'pandas.core.frame.DataFrame'>\n",
      "Int64Index: 87054 entries, 0 to 89610\n",
      "Data columns (total 7 columns):\n",
      "id         87054 non-null int64\n",
      "author     76925 non-null object\n",
      "source     87052 non-null object\n",
      "content    87054 non-null object\n",
      "feature    87054 non-null object\n",
      "title      87054 non-null object\n",
      "url        87054 non-null object\n",
      "dtypes: int64(1), object(6)\n",
      "memory usage: 5.3+ MB\n",
      "None\n"
     ]
    }
   ],
   "source": [
    "news = news.dropna(subset=['content'])  # news.dropna(subset=['content'], inplace = True) \n",
    "print(news.info())"
   ]
  },
  {
   "cell_type": "code",
   "execution_count": 138,
   "metadata": {},
   "outputs": [],
   "source": [
    "# news = news.dropna(subset=['source'])  \n",
    "# print(news.info())"
   ]
  },
  {
   "cell_type": "markdown",
   "metadata": {},
   "source": [
    "## 4. Split text  "
   ]
  },
  {
   "cell_type": "code",
   "execution_count": 139,
   "metadata": {},
   "outputs": [],
   "source": [
    "def split_text(text):\n",
    "    text = text.replace(' ', '').replace('\\n', '').replace('\\r', '')\n",
    "    text2 = jieba.cut(text.strip()) \n",
    "    result = ' '.join([w for w in text2 if w not in stopwords])\n",
    "    return result"
   ]
  },
  {
   "cell_type": "markdown",
   "metadata": {},
   "source": [
    "**print the content of the first item of the news dataset  \n",
    "print the content of the first item after splited of the dataset**"
   ]
  },
  {
   "cell_type": "code",
   "execution_count": 140,
   "metadata": {},
   "outputs": [
    {
     "name": "stdout",
     "output_type": "stream",
     "text": [
      "此外，自本周（6月12日）起，除小米手机6等15款机型外，其余机型已暂停更新发布（含开发版/体验版内测，稳定版暂不受影响），以确保工程师可以集中全部精力进行系统优化工作。有人猜测这也是将精力主要用到MIUI 9的研发之中。\r\n",
      "MIUI 8去年5月发布，距今已有一年有余，也是时候更新换代了。\r\n",
      "当然，关于MIUI 9的确切信息，我们还是等待官方消息。\r\n",
      "\n",
      "此外 本周 除 小米 手机 款 机型 外 机型 暂停 更新 发布 含 开发 版 体验版 内测 稳定版 暂不受 影响 确保 工程师 集中 全部 精力 进行 系统优化 工作 有人 猜测 精力 主要 用到 MIUI9 研发 之中 MIUI8 去年 发布 距今已有 一年 有余 更新换代 当然 MIUI9 确切 信息 等待 官方消息\n"
     ]
    }
   ],
   "source": [
    "temp = news.iloc[0].content\n",
    "print(temp)\n",
    "print(split_text(temp))"
   ]
  },
  {
   "cell_type": "markdown",
   "metadata": {},
   "source": [
    "**split all the text and save it into corpus.pkl**"
   ]
  },
  {
   "cell_type": "code",
   "execution_count": 141,
   "metadata": {},
   "outputs": [
    {
     "name": "stdout",
     "output_type": "stream",
     "text": [
      "此外 本周 除 小米 手机 款 机型 外 机型 暂停 更新 发布 含 开发 版 体验版 内测 稳定版 暂不受 影响 确保 工程师 集中 全部 精力 进行 系统优化 工作 有人 猜测 精力 主要 用到 MIUI9 研发 之中 \r",
      " MIUI8 去年 发布 距今已有 一年 有余 更新换代 \r",
      " 当然 MIUI9 确切 信息 等待 官方消息\n"
     ]
    }
   ],
   "source": [
    "if os.path.exists('corpus.pkl'):\n",
    "    with open('corpus.pkl', 'rb') as file:\n",
    "        corpus = pickle.load(file)\n",
    "else:\n",
    "    corpus = news['content'].map(split_text)\n",
    "    with open('corpus.pkl', 'wb') as file:\n",
    "        pickle.dump(corpus, file)\n",
    "        \n",
    "print(corpus[0])"
   ]
  },
  {
   "cell_type": "markdown",
   "metadata": {},
   "source": [
    "## 5.  Count word frequency"
   ]
  },
  {
   "cell_type": "code",
   "execution_count": 142,
   "metadata": {},
   "outputs": [],
   "source": [
    "countVectorizer = CountVectorizer(encoding='gb18030', min_df=0.015)\n",
    "corpus_vectorizer = countVectorizer.fit_transform(corpus)\n",
    "\n",
    "tfidfTransformer = TfidfTransformer()\n",
    "tfidf = tfidfTransformer.fit_transform(corpus_vectorizer)\n",
    "\n",
    "label = list(map(lambda source:1 if '新华社' in str(source) else 0, news.source))"
   ]
  },
  {
   "cell_type": "code",
   "execution_count": 143,
   "metadata": {},
   "outputs": [
    {
     "name": "stdout",
     "output_type": "stream",
     "text": [
      "<class 'scipy.sparse.csr.csr_matrix'>\n",
      "<class 'scipy.sparse.csr.csr_matrix'>\n",
      "(87054, 884)\n"
     ]
    }
   ],
   "source": [
    "print(type(corpus_vectorizer))\n",
    "print(type(tfidf))\n",
    "\n",
    "print(tfidf.shape)\n",
    "print('='*40,\"the first 3 rows of sparse matrix of tfidf\")\n",
    "print(tfidf[:3])"
   ]
  },
  {
   "cell_type": "markdown",
   "metadata": {},
   "source": [
    "## 6. MultinomialNB\n",
    "### 6.1 Split dataset"
   ]
  },
  {
   "cell_type": "code",
   "execution_count": 149,
   "metadata": {},
   "outputs": [
    {
     "name": "stdout",
     "output_type": "stream",
     "text": [
      "(69643, 884)\n",
      "(17411, 884)\n",
      "69643\n",
      "17411\n"
     ]
    }
   ],
   "source": [
    "x_train, x_test, y_train, y_test = train_test_split(tfidf.toarray(), label, test_size=0.2)\n",
    "\n",
    "print(x_train.shape)\n",
    "print(x_test.shape)\n",
    "print(len(y_train))\n",
    "print(len(y_test))"
   ]
  },
  {
   "cell_type": "markdown",
   "metadata": {},
   "source": [
    "### 6.2 Fit model "
   ]
  },
  {
   "cell_type": "code",
   "execution_count": 162,
   "metadata": {},
   "outputs": [
    {
     "name": "stdout",
     "output_type": "stream",
     "text": [
      "======================================== information of compare news\n",
      "<class 'pandas.core.frame.DataFrame'>\n",
      "RangeIndex: 87054 entries, 0 to 87053\n",
      "Data columns (total 2 columns):\n",
      "prediction    87054 non-null int32\n",
      "labels        87054 non-null int32\n",
      "dtypes: int32(2)\n",
      "memory usage: 680.2 KB\n",
      "None\n",
      "   prediction  labels\n",
      "0           0       0\n",
      "1           0       0\n",
      "2           0       0\n",
      "3           1       1\n",
      "4           1       0\n",
      "5           0       0\n",
      "6           0       0\n",
      "======================================== information of copy news\n",
      "<class 'pandas.core.frame.DataFrame'>\n",
      "Int64Index: 2817 entries, 4 to 8555\n",
      "Data columns (total 2 columns):\n",
      "prediction    2817 non-null int32\n",
      "labels        2817 non-null int32\n",
      "dtypes: int32(2)\n",
      "memory usage: 44.0 KB\n",
      "None\n",
      "    prediction  labels\n",
      "4            1       0\n",
      "24           1       0\n",
      "25           1       0\n",
      "28           1       0\n",
      "30           1       0\n",
      "35           1       0\n",
      "37           1       0\n",
      "======================================== information of xinhuashe news\n",
      "78674\n"
     ]
    }
   ],
   "source": [
    "model = MultinomialNB()\n",
    "model.fit(x_train, y_train)\n",
    "\n",
    "prediction =  model.predict(tfidf.toarray())\n",
    "labels = np.array(label)\n",
    "compare_news_index = pd.DataFrame({'prediction':prediction, 'labels':labels})\n",
    "print('='*40,\"information of compare news\")\n",
    "print(compare_news_index.info())\n",
    "print(compare_news_index.head(7))\n",
    "\n",
    "copy_news_index = compare_news_index[(compare_news_index['prediction']==1) & (compare_news_index['labels']==0)]\n",
    "print('='*40,\"information of copy news\")\n",
    "print(copy_news_index.info())\n",
    "print(copy_news_index.head(7))\n",
    "\n",
    "xinhuashe_news_index = compare_news_index[(compare_news_index['labels']==1)].index\n",
    "print('='*40,\"information of xinhuashe news\")\n",
    "print(len(xinhuashe_news_index))\n"
   ]
  },
  {
   "cell_type": "markdown",
   "metadata": {},
   "source": [
    "## 7. Kmeans cluster\n",
    "### 7.1 Data normalization"
   ]
  },
  {
   "cell_type": "code",
   "execution_count": 166,
   "metadata": {},
   "outputs": [],
   "source": [
    "normalizer = Normalizer()\n",
    "scaled_array = normalizer.fit_transform(tfidf.toarray())"
   ]
  },
  {
   "cell_type": "markdown",
   "metadata": {},
   "source": [
    "### 7.2 KMeans model fit"
   ]
  },
  {
   "cell_type": "code",
   "execution_count": 184,
   "metadata": {},
   "outputs": [
    {
     "name": "stdout",
     "output_type": "stream",
     "text": [
      "Wall time: 4min 41s\n"
     ]
    },
    {
     "data": {
      "text/plain": [
       "87054"
      ]
     },
     "execution_count": 184,
     "metadata": {},
     "output_type": "execute_result"
    }
   ],
   "source": [
    "%%time\n",
    "kmeans = KMeans(n_clusters=25)\n",
    "k_labels = kmeans.fit_predict(scaled_array)\n",
    "\n",
    "len(k_labels)"
   ]
  },
  {
   "cell_type": "code",
   "execution_count": 185,
   "metadata": {},
   "outputs": [],
   "source": [
    "def find_similar_text(cpindex, top=10):\n",
    "    dist_dict = {i:cosine_similarity(tfidf[cpindex], tfidf[i]) for i in class_id[id_class[cpindex]]}\n",
    "    return sorted(dist_dict.items(), key=lambda x:x[1][0], reverse=True)[:top]"
   ]
  },
  {
   "cell_type": "code",
   "execution_count": 186,
   "metadata": {},
   "outputs": [
    {
     "name": "stdout",
     "output_type": "stream",
     "text": [
      "Wall time: 2min 53s\n"
     ]
    }
   ],
   "source": [
    "%%time\n",
    "id_class = {index:class_ for index, class_ in enumerate(k_labels)}\n",
    "class_id = defaultdict(set)\n",
    "for index, class_ in id_class.items():\n",
    "    if index in xinhuashe_news_index.to_list():\n",
    "        class_id[class_].add(index)"
   ]
  },
  {
   "cell_type": "code",
   "execution_count": 194,
   "metadata": {},
   "outputs": [
    {
     "name": "stdout",
     "output_type": "stream",
     "text": [
      "======================================== 相似距离：\n",
      "\n",
      "[(3134, array([[0.96849134]])), (63511, array([[0.94643198]])), (29441, array([[0.94283416]])), (3218, array([[0.87621892]])), (29615, array([[0.86936328]])), (29888, array([[0.86215862]])), (64046, array([[0.85278235]])), (29777, array([[0.84875422]])), (64758, array([[0.73394798]])), (29973, array([[0.7252432]]))]\n",
      "======================================== 怀疑抄袭：\n",
      "\n",
      "　　中国5月份56座城市新建商品住宅价格环比上涨，4月份为58座上涨。5月份15个一线和热点二线城市房地产市场基本稳定，5月份房地产调控政策效果继续显现。\r\n",
      "　　统计局：15个一线和热点二线城市房价同比涨幅全部回落\r\n",
      "　　国家统计局城市司高级统计师刘建伟解读5月份房价数据\r\n",
      "　　5月份一二线城市房价平均涨幅继续回落\r\n",
      "　　国家统计局今日发布了2017年5月份70个大中城市住宅销售价格统计数据。对此，国家统计局城市司高级统计师刘建伟进行了解读。\r\n",
      "　　一、15个一线和热点二线城市新建商品住宅价格同比涨幅全部回落、9个城市环比下降或持平\r\n",
      "　　5月份，因地制宜、因城施策的房地产调控政策效果继续显现，15个一线和热点二线城市房地产市场基本稳定。从同比看，15个城市新建商品住宅价格涨幅均比上月回落，回落幅度在0.5至6.4个百分点之间。从环比看，9个城市新建商品住宅价格下降或持平；5个城市涨幅在0.5%以内。\r\n",
      "　　二、70个大中城市中一二线城市房价同比涨幅持续回落\r\n",
      "　　5月份，70个城市中新建商品住宅和二手住宅价格同比涨幅比上月回落的城市分别有29和18个。其中，一二线城市同比涨幅回落尤其明显。据测算，一线城市新建商品住宅和二手住宅价格同比涨幅均连续8个月回落，5月份比4月份分别回落2.2和1.7个百分点；二线城市新建商品住宅和二手住宅价格同比涨幅分别连续6个月和4个月回落，5月份比4月份分别回落0.8和0.5个百分点。\r\n",
      "　　三、70个大中城市中房价环比下降及涨幅回落城市个数均有所增加\r\n",
      "　　5月份，70个城市中新建商品住宅价格环比下降的城市有9个，比上月增加1个；涨幅回落的城市有26个，比上月增加3个。二手住宅价格环比下降的城市有7个，比上月增加2个；涨幅回落的城市有30个，比上月增加8个。\r\n",
      "\n",
      "======================================== 相似原文:\n",
      "\n",
      "　　国家统计局19日发布数据，5月份，15个一线和热点二线城市新建商品住宅价格同比涨幅全部回落，其中9个城市环比下降或持平。这9个价格环比下降或持平的城市为：北京、上海、南京、杭州、合肥、福州、郑州、深圳、成都。\r\n",
      "　　“5月份，因地制宜、因城施策的房地产调控政策效果继续显现，15个一线和热点二线城市房地产市场基本稳定。”国家统计局城市司高级统计师刘建伟说，从同比看，15个城市新建商品住宅价格涨幅均比上月回落，回落幅度在0.5至6.4个百分点之间。从环比看，9个城市新建商品住宅价格下降或持平；5个城市涨幅在0.5%以内。\r\n",
      "　　国家统计局当天还发布了5月份70个大中城市住宅销售价格统计数据。刘建伟介绍，5月份，70个大中城市中新建商品住宅和二手住宅价格同比涨幅比上月回落的城市分别有29和18个。其中，一二线城市同比涨幅回落尤其明显。据测算，一线城市新建商品住宅和二手住宅价格同比涨幅均连续8个月回落，5月份比4月份分别回落2.2和1.7个百分点；二线城市新建商品住宅和二手住宅价格同比涨幅分别连续6个月和4个月回落，5月份比4月份分别回落0.8和0.5个百分点。\r\n",
      "　　此外，70个大中城市中房价环比下降及涨幅回落城市个数均有所增加。统计显示，5月份，70个大中城市中新建商品住宅价格环比下降的城市有9个，比上月增加1个；涨幅回落的城市有26个，比上月增加3个。二手住宅价格环比下降的城市有7个，比上月增加2个；涨幅回落的城市有30个，比上月增加8个。\r\n",
      "\n",
      "Wall time: 2.51 s\n"
     ]
    }
   ],
   "source": [
    "%%time\n",
    "cpindex = 3352\n",
    "similar_list = find_similar_text(cpindex)\n",
    "similar2 = similar_list[0][0]\n",
    "\n",
    "print('='*40,\"相似距离：\\n\")\n",
    "print(similar_list)\n",
    "\n",
    "print('='*40,\"怀疑抄袭：\\n\")\n",
    "print(news.iloc[cpindex].content)\n",
    "\n",
    "print('='*40,\"相似原文:\\n\")\n",
    "print(news.iloc[similar2].content)  "
   ]
  },
  {
   "cell_type": "code",
   "execution_count": null,
   "metadata": {},
   "outputs": [],
   "source": []
  }
 ],
 "metadata": {
  "kernelspec": {
   "display_name": "Python 3",
   "language": "python",
   "name": "python3"
  },
  "language_info": {
   "codemirror_mode": {
    "name": "ipython",
    "version": 3
   },
   "file_extension": ".py",
   "mimetype": "text/x-python",
   "name": "python",
   "nbconvert_exporter": "python",
   "pygments_lexer": "ipython3",
   "version": "3.7.4"
  },
  "toc": {
   "base_numbering": 1,
   "nav_menu": {},
   "number_sections": false,
   "sideBar": true,
   "skip_h1_title": false,
   "title_cell": "Table of Contents",
   "title_sidebar": "Contents",
   "toc_cell": false,
   "toc_position": {},
   "toc_section_display": true,
   "toc_window_display": true
  }
 },
 "nbformat": 4,
 "nbformat_minor": 2
}
