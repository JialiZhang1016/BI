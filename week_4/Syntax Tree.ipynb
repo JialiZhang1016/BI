{
 "cells": [
  {
   "cell_type": "code",
   "execution_count": 18,
   "metadata": {},
   "outputs": [],
   "source": [
    "import random\n",
    "\n",
    "# 定语从句语法\n",
    "grammar = '''\n",
    "host = 寒暄 报数 询问 具体业务 结尾\n",
    "寒暄 = 称谓 打招呼 | 打招呼\n",
    "称谓 = 人称 ,\n",
    "人称 = 先生 | 女士 | 小朋友\n",
    "打招呼 = 你好 | 您好 \n",
    "报数 = 我是工号 数字 号 ,\n",
    "数字 = 666\n",
    "询问 = 请问你要 | 您需要\n",
    "具体业务 = 抽烟 | 喝酒 | 烫头 | 纹身\n",
    "结尾 = 吗？\n",
    "'''\n",
    "\n",
    "# 得到语法字典\n",
    "def getGrammarDict(gram, linesplit = \"\\n\", gramsplit = \"=\"):\n",
    "    #定义字典\n",
    "    result = {}\n",
    "\n",
    "    for line in gram.split(linesplit):\n",
    "        # 去掉首尾空格后，如果为空则退出\n",
    "        if not line.strip():\n",
    "            continue\n",
    "        expr, statement = line.split(gramsplit)\n",
    "        result[expr.strip()] = [i.split() for i in statement.split(\"|\")]\n",
    "    return result\n",
    "\n",
    "# 生成句子\n",
    "def generate(gramdict, target):\n",
    "    if target not in gramdict:\n",
    "        return target\n",
    "    find = random.choice(gramdict[target])\n",
    "    blank = ''\n",
    "    return blank.join(generate(gramdict, t) for t in find)"
   ]
  },
  {
   "cell_type": "code",
   "execution_count": 22,
   "metadata": {},
   "outputs": [
    {
     "data": {
      "text/plain": [
       "{'host': [['寒暄', '报数', '询问', '具体业务', '结尾']],\n",
       " '寒暄': [['称谓', '打招呼'], ['打招呼']],\n",
       " '称谓': [['人称', ',']],\n",
       " '人称': [['先生'], ['女士'], ['小朋友']],\n",
       " '打招呼': [['你好'], ['您好']],\n",
       " '报数': [['我是工号', '数字', '号', ',']],\n",
       " '数字': [['666']],\n",
       " '询问': [['请问你要'], ['您需要']],\n",
       " '具体业务': [['抽烟'], ['喝酒'], ['烫头'], ['纹身']],\n",
       " '结尾': [['吗？']]}"
      ]
     },
     "execution_count": 22,
     "metadata": {},
     "output_type": "execute_result"
    }
   ],
   "source": [
    "gramdict = getGrammarDict(grammar)\n",
    "gramdict"
   ]
  },
  {
   "cell_type": "code",
   "execution_count": 21,
   "metadata": {},
   "outputs": [
    {
     "name": "stdout",
     "output_type": "stream",
     "text": [
      "先生,你好我是工号666号,请问你要喝酒吗？\n",
      "您好我是工号666号,您需要烫头吗？\n",
      "女士,您好我是工号666号,您需要抽烟吗？\n",
      "女士,你好我是工号666号,您需要喝酒吗？\n",
      "您好我是工号666号,您需要喝酒吗？\n"
     ]
    }
   ],
   "source": [
    "print(generate(gramdict,\"host\"))\n",
    "print(generate(gramdict,\"host\"))\n",
    "print(generate(gramdict,\"host\"))\n",
    "print(generate(gramdict,\"host\"))\n",
    "print(generate(gramdict,\"host\"))"
   ]
  },
  {
   "cell_type": "code",
   "execution_count": null,
   "metadata": {},
   "outputs": [],
   "source": []
  }
 ],
 "metadata": {
  "kernelspec": {
   "display_name": "Python 3",
   "language": "python",
   "name": "python3"
  },
  "language_info": {
   "codemirror_mode": {
    "name": "ipython",
    "version": 3
   },
   "file_extension": ".py",
   "mimetype": "text/x-python",
   "name": "python",
   "nbconvert_exporter": "python",
   "pygments_lexer": "ipython3",
   "version": "3.7.4"
  },
  "toc": {
   "base_numbering": 1,
   "nav_menu": {},
   "number_sections": true,
   "sideBar": true,
   "skip_h1_title": false,
   "title_cell": "Table of Contents",
   "title_sidebar": "Contents",
   "toc_cell": false,
   "toc_position": {},
   "toc_section_display": true,
   "toc_window_display": false
  }
 },
 "nbformat": 4,
 "nbformat_minor": 2
}
