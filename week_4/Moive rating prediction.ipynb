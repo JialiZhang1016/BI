{
 "cells": [
  {
   "cell_type": "markdown",
   "metadata": {
    "toc": true
   },
   "source": [
    "<h1>Table of Contents<span class=\"tocSkip\"></span></h1>\n",
    "<div class=\"toc\"><ul class=\"toc-item\"><li><span><a href=\"#1.-Introduce-Surprise-package\" data-toc-modified-id=\"1.-Introduce-Surprise-package-1\">1. Introduce Surprise package</a></span></li><li><span><a href=\"#2.-Load-and-look-into-the-data\" data-toc-modified-id=\"2.-Load-and-look-into-the-data-2\">2. Load and look into the data</a></span></li><li><span><a href=\"#3.-Baseline\" data-toc-modified-id=\"3.-Baseline-3\">3. Baseline</a></span><ul class=\"toc-item\"><li><span><a href=\"#3.1-ALS\" data-toc-modified-id=\"3.1-ALS-3.1\">3.1 ALS</a></span></li><li><span><a href=\"#3.2-SGD\" data-toc-modified-id=\"3.2-SGD-3.2\">3.2 SGD</a></span></li></ul></li><li><span><a href=\"#4.-k-NN\" data-toc-modified-id=\"4.-k-NN-4\">4. k-NN</a></span></li><li><span><a href=\"#5.-Mareix-factorization(SVD)\" data-toc-modified-id=\"5.-Mareix-factorization(SVD)-5\">5. Mareix factorization(SVD)</a></span></li><li><span><a href=\"#6.-Slope-one\" data-toc-modified-id=\"6.-Slope-one-6\">6. Slope one</a></span></li></ul></div>"
   ]
  },
  {
   "cell_type": "code",
   "execution_count": 71,
   "metadata": {},
   "outputs": [],
   "source": [
    "import pandas as pd\n",
    "from surprise import Dataset\n",
    "from surprise import Reader\n",
    "from surprise import BaselineOnly, KNNBasic, SlopeOne, SVD\n",
    "from surprise import accuracy\n",
    "from surprise.model_selection import KFold, GridSearchCV, cross_validate"
   ]
  },
  {
   "cell_type": "markdown",
   "metadata": {},
   "source": [
    "## 1. Introduce Surprise package\n",
    "**`Surprise` package is used for rating prediction. The input data must have 3 columns, which are `uid`, `iid`, `r_ui`.Its output is `est`.**\n",
    "- **uid** - The (raw) user id\n",
    "- **iid** - The (raw) item id\n",
    "- **r_ui** - The true rating\n",
    "- **est** - The estimated rating $r_{ui}$\n",
    "\n",
    "**The available prediction algorithms in `surprise` are:**\n",
    "\n",
    "| Basic | k-NN | Matrix Facorization | Slope one | Co-clustering |\n",
    "| :------| :-----| :--------------------| :----------| :--------------|\n",
    "| random_pred.NormalPredictor | knns.KNNBasic    | matrix_factorization.SVD  | slope_one.SlopeOne | co_clustering.CoClustering |\n",
    "| baseline_only.BaselineOnly  | knns.KNNWithMeans | matrix_factorization.SVDpp |  |                   |\n",
    "|                    | knns.KNNWithZScore | matrix_factorization.NMF | | |\n",
    "| | knns.KNNBaseline | | | | | \n",
    "\n",
    "**Baselines can be estimated in two different ways:**\n",
    "- Using Stochastic Gradient Descent (SGD).\n",
    "- Using Alternating Least Squares (ALS).\n",
    "\n",
    "## 2. Load and look into the data"
   ]
  },
  {
   "cell_type": "code",
   "execution_count": 11,
   "metadata": {},
   "outputs": [
    {
     "data": {
      "text/html": [
       "<div>\n",
       "<style scoped>\n",
       "    .dataframe tbody tr th:only-of-type {\n",
       "        vertical-align: middle;\n",
       "    }\n",
       "\n",
       "    .dataframe tbody tr th {\n",
       "        vertical-align: top;\n",
       "    }\n",
       "\n",
       "    .dataframe thead th {\n",
       "        text-align: right;\n",
       "    }\n",
       "</style>\n",
       "<table border=\"1\" class=\"dataframe\">\n",
       "  <thead>\n",
       "    <tr style=\"text-align: right;\">\n",
       "      <th></th>\n",
       "      <th>userId</th>\n",
       "      <th>movieId</th>\n",
       "      <th>rating</th>\n",
       "      <th>timestamp</th>\n",
       "    </tr>\n",
       "  </thead>\n",
       "  <tbody>\n",
       "    <tr>\n",
       "      <td>0</td>\n",
       "      <td>1</td>\n",
       "      <td>2</td>\n",
       "      <td>3.5</td>\n",
       "      <td>1112486027</td>\n",
       "    </tr>\n",
       "    <tr>\n",
       "      <td>1</td>\n",
       "      <td>1</td>\n",
       "      <td>29</td>\n",
       "      <td>3.5</td>\n",
       "      <td>1112484676</td>\n",
       "    </tr>\n",
       "    <tr>\n",
       "      <td>2</td>\n",
       "      <td>1</td>\n",
       "      <td>32</td>\n",
       "      <td>3.5</td>\n",
       "      <td>1112484819</td>\n",
       "    </tr>\n",
       "    <tr>\n",
       "      <td>3</td>\n",
       "      <td>1</td>\n",
       "      <td>47</td>\n",
       "      <td>3.5</td>\n",
       "      <td>1112484727</td>\n",
       "    </tr>\n",
       "    <tr>\n",
       "      <td>4</td>\n",
       "      <td>1</td>\n",
       "      <td>50</td>\n",
       "      <td>3.5</td>\n",
       "      <td>1112484580</td>\n",
       "    </tr>\n",
       "  </tbody>\n",
       "</table>\n",
       "</div>"
      ],
      "text/plain": [
       "   userId  movieId  rating   timestamp\n",
       "0       1        2     3.5  1112486027\n",
       "1       1       29     3.5  1112484676\n",
       "2       1       32     3.5  1112484819\n",
       "3       1       47     3.5  1112484727\n",
       "4       1       50     3.5  1112484580"
      ]
     },
     "execution_count": 11,
     "metadata": {},
     "output_type": "execute_result"
    }
   ],
   "source": [
    "data=pd.read_csv(\"./ratings.csv\") \n",
    "data.head(5)"
   ]
  },
  {
   "cell_type": "code",
   "execution_count": 12,
   "metadata": {},
   "outputs": [
    {
     "name": "stdout",
     "output_type": "stream",
     "text": [
      "the shape of the rating.csv is (1048575, 4)\n",
      "the number of user is 7120\n",
      "the number of movie is 14026\n"
     ]
    }
   ],
   "source": [
    "print(\"the shape of the rating.csv is\",data.shape)\n",
    "print(\"the number of user is\",len(data['userId'].unique()))\n",
    "print(\"the number of movie is\",len(data['movieId'].unique()))"
   ]
  },
  {
   "cell_type": "markdown",
   "metadata": {},
   "source": [
    "**Obtain value counts of `rating`**"
   ]
  },
  {
   "cell_type": "code",
   "execution_count": 13,
   "metadata": {},
   "outputs": [
    {
     "data": {
      "text/plain": [
       "4.0    295135\n",
       "3.0    226202\n",
       "5.0    152562\n",
       "3.5    112926\n",
       "4.5     79848\n",
       "2.0     74706\n",
       "2.5     44791\n",
       "1.0     35144\n",
       "1.5     14029\n",
       "0.5     13232\n",
       "Name: rating, dtype: int64"
      ]
     },
     "execution_count": 13,
     "metadata": {},
     "output_type": "execute_result"
    }
   ],
   "source": [
    "data['rating'].value_counts()"
   ]
  },
  {
   "cell_type": "code",
   "execution_count": 19,
   "metadata": {},
   "outputs": [],
   "source": [
    "# A reader is still needed but only the rating_scale param is requiered.\n",
    "reader = Reader(rating_scale=(0,5))\n",
    "\n",
    "# The columns must correspond to user id, item id and ratings (in that order).\n",
    "data_rating = Dataset.load_from_df(data[['userId','movieId','rating']],reader)"
   ]
  },
  {
   "cell_type": "markdown",
   "metadata": {},
   "source": [
    "## 3. Baseline\n",
    "### 3.1 ALS"
   ]
  },
  {
   "cell_type": "code",
   "execution_count": 64,
   "metadata": {},
   "outputs": [
    {
     "name": "stdout",
     "output_type": "stream",
     "text": [
      "Using ALS\n",
      "Estimating biases using als...\n",
      "Estimating biases using als...\n",
      "Estimating biases using als...\n",
      "Evaluating RMSE, MAE of algorithm BaselineOnly on 3 split(s).\n",
      "\n",
      "                  Fold 1  Fold 2  Fold 3  Mean    Std     \n",
      "RMSE (testset)    0.8639  0.8645  0.8631  0.8638  0.0006  \n",
      "MAE (testset)     0.6645  0.6655  0.6651  0.6650  0.0004  \n",
      "Fit time          1.66    2.00    1.67    1.78    0.16    \n",
      "Test time         2.13    1.75    2.05    1.98    0.16    \n"
     ]
    },
    {
     "data": {
      "text/plain": [
       "{'test_rmse': array([0.86391069, 0.86447348, 0.86307225]),\n",
       " 'test_mae': array([0.66446725, 0.66551725, 0.66508558]),\n",
       " 'fit_time': (1.6645498275756836, 2.00164794921875, 1.6675419807434082),\n",
       " 'test_time': (2.1343252658843994, 1.7513153553009033, 2.0495212078094482)}"
      ]
     },
     "execution_count": 64,
     "metadata": {},
     "output_type": "execute_result"
    }
   ],
   "source": [
    "print('Using ALS')\n",
    "als_options = {'method': 'als',\n",
    "               'n_epochs': 5,\n",
    "               'reg_u': 12,\n",
    "               'reg_i': 5}\n",
    "\n",
    "algo = BaselineOnly(bsl_options=als_options)\n",
    "\n",
    "cross_validate(algo, data_rating, measures=['RMSE', 'MAE'], cv=3, verbose=True)"
   ]
  },
  {
   "cell_type": "markdown",
   "metadata": {},
   "source": [
    "**get a prediction for specific users and items.**"
   ]
  },
  {
   "cell_type": "code",
   "execution_count": 65,
   "metadata": {},
   "outputs": [
    {
     "data": {
      "text/plain": [
       "userId               5.0\n",
       "movieId            780.0\n",
       "rating               5.0\n",
       "timestamp    851526935.0\n",
       "Name: 500, dtype: float64"
      ]
     },
     "execution_count": 65,
     "metadata": {},
     "output_type": "execute_result"
    }
   ],
   "source": [
    "data.loc[500]"
   ]
  },
  {
   "cell_type": "markdown",
   "metadata": {},
   "source": [
    "**From the result above, we know the 500th row value.  \n",
    "The user ID is 5, the moive ID is 780, and the ture rating is 5. Then we get the predicted rating.**  "
   ]
  },
  {
   "cell_type": "code",
   "execution_count": 66,
   "metadata": {},
   "outputs": [
    {
     "name": "stdout",
     "output_type": "stream",
     "text": [
      "user: 5          item: 780        r_ui = 5.00   est = 3.53   {'was_impossible': False}\n"
     ]
    }
   ],
   "source": [
    "uid = str(5)\n",
    "iid = str(780)\n",
    "\n",
    "pred = algo.predict(uid, iid, r_ui=5, verbose=True)"
   ]
  },
  {
   "cell_type": "markdown",
   "metadata": {},
   "source": [
    "### 3.2 SGD"
   ]
  },
  {
   "cell_type": "code",
   "execution_count": 67,
   "metadata": {},
   "outputs": [
    {
     "name": "stdout",
     "output_type": "stream",
     "text": [
      "Using SGD\n",
      "Estimating biases using sgd...\n",
      "Estimating biases using sgd...\n",
      "Estimating biases using sgd...\n",
      "Evaluating RMSE, MAE of algorithm BaselineOnly on 3 split(s).\n",
      "\n",
      "                  Fold 1  Fold 2  Fold 3  Mean    Std     \n",
      "RMSE (testset)    0.9747  0.9741  0.9711  0.9733  0.0016  \n",
      "MAE (testset)     0.7688  0.7688  0.7663  0.7680  0.0012  \n",
      "Fit time          3.72    4.40    4.07    4.06    0.28    \n",
      "Test time         2.01    1.99    2.62    2.21    0.29    \n"
     ]
    },
    {
     "data": {
      "text/plain": [
       "{'test_rmse': array([0.97473783, 0.97405979, 0.97109596]),\n",
       " 'test_mae': array([0.76881574, 0.76882325, 0.76632074]),\n",
       " 'fit_time': (3.720059871673584, 4.396212100982666, 4.0711469650268555),\n",
       " 'test_time': (2.012610673904419, 1.9937009811401367, 2.6219894886016846)}"
      ]
     },
     "execution_count": 67,
     "metadata": {},
     "output_type": "execute_result"
    }
   ],
   "source": [
    "print('Using SGD')\n",
    "sgd_options = {'method': 'sgd',\n",
    "               'learning_rate': .00005,\n",
    "               }\n",
    "\n",
    "algo = BaselineOnly(bsl_options=sgd_options)\n",
    "cross_validate(algo, data_rating, measures=['RMSE', 'MAE'], cv=3, verbose=True)"
   ]
  },
  {
   "cell_type": "code",
   "execution_count": 68,
   "metadata": {},
   "outputs": [
    {
     "name": "stdout",
     "output_type": "stream",
     "text": [
      "user: 5          item: 780        r_ui = 5.00   est = 3.53   {'was_impossible': False}\n"
     ]
    }
   ],
   "source": [
    "uid = str(5)\n",
    "iid = str(780)\n",
    "\n",
    "pred = algo.predict(uid, iid, r_ui=5, verbose=True)"
   ]
  },
  {
   "cell_type": "markdown",
   "metadata": {},
   "source": [
    "## 4. k-NN"
   ]
  },
  {
   "cell_type": "code",
   "execution_count": 72,
   "metadata": {},
   "outputs": [
    {
     "name": "stdout",
     "output_type": "stream",
     "text": [
      "Computing the cosine similarity matrix...\n",
      "Done computing similarity matrix.\n",
      "Computing the cosine similarity matrix...\n",
      "Done computing similarity matrix.\n",
      "Computing the cosine similarity matrix...\n",
      "Done computing similarity matrix.\n",
      "Evaluating RMSE, MAE of algorithm KNNBasic on 3 split(s).\n",
      "\n",
      "                  Fold 1  Fold 2  Fold 3  Mean    Std     \n",
      "RMSE (testset)    0.9617  0.9594  0.9633  0.9615  0.0016  \n",
      "MAE (testset)     0.7424  0.7408  0.7432  0.7421  0.0010  \n",
      "Fit time          72.72   62.20   64.77   66.57   4.48    \n",
      "Test time         91.15   90.65   93.46   91.75   1.23    \n"
     ]
    },
    {
     "data": {
      "text/plain": [
       "{'test_rmse': array([0.96166556, 0.9594317 , 0.96334707]),\n",
       " 'test_mae': array([0.74242435, 0.74077887, 0.74319096]),\n",
       " 'fit_time': (72.72215032577515, 62.203686475753784, 64.76984643936157),\n",
       " 'test_time': (91.14958143234253, 90.64768648147583, 93.46398973464966)}"
      ]
     },
     "execution_count": 72,
     "metadata": {},
     "output_type": "execute_result"
    }
   ],
   "source": [
    "%%time\n",
    "sim_options = {'name': 'cosine',\n",
    "               'user_based': False  # compute  similarities between items\n",
    "               }\n",
    "\n",
    "algo = KNNBasic(sim_options=sim_options)\n",
    "cross_validate(algo, data_rating, measures=['RMSE', 'MAE'], cv=3, verbose=True)"
   ]
  },
  {
   "cell_type": "markdown",
   "metadata": {},
   "source": [
    "## 5. Mareix factorization(SVD)"
   ]
  },
  {
   "cell_type": "code",
   "execution_count": 69,
   "metadata": {},
   "outputs": [
    {
     "name": "stdout",
     "output_type": "stream",
     "text": [
      "Evaluating RMSE, MAE of algorithm SVD on 3 split(s).\n",
      "\n",
      "                  Fold 1  Fold 2  Fold 3  Mean    Std     \n",
      "RMSE (testset)    0.8459  0.8433  0.8462  0.8451  0.0013  \n",
      "MAE (testset)     0.6478  0.6465  0.6475  0.6473  0.0006  \n",
      "Fit time          42.83   39.35   39.20   40.46   1.68    \n",
      "Test time         2.38    2.56    2.50    2.48    0.07    \n"
     ]
    },
    {
     "data": {
      "text/plain": [
       "{'test_rmse': array([0.84586934, 0.84327569, 0.84619379]),\n",
       " 'test_mae': array([0.64784907, 0.64652349, 0.64753747]),\n",
       " 'fit_time': (42.82746148109436, 39.34779906272888, 39.20418190956116),\n",
       " 'test_time': (2.3816657066345215, 2.5611813068389893, 2.4993484020233154)}"
      ]
     },
     "execution_count": 69,
     "metadata": {},
     "output_type": "execute_result"
    }
   ],
   "source": [
    "algo = SVD()\n",
    "\n",
    "cross_validate(algo, data_rating, measures=['RMSE', 'MAE'], cv=3, verbose=True)"
   ]
  },
  {
   "cell_type": "code",
   "execution_count": 74,
   "metadata": {},
   "outputs": [
    {
     "name": "stdout",
     "output_type": "stream",
     "text": [
      "RMSE: 0.8446\n",
      "MSE: 0.7133\n",
      "RMSE: 0.8460\n",
      "MSE: 0.7157\n",
      "RMSE: 0.8440\n",
      "MSE: 0.7123\n",
      "Wall time: 2min 14s\n"
     ]
    }
   ],
   "source": [
    "%%time\n",
    "\n",
    "kf = KFold(n_splits=3)\n",
    "\n",
    "algo = SVD()\n",
    "\n",
    "for trainset, testset in kf.split(data_rating):\n",
    "\n",
    "    # train and test algorithm.\n",
    "    algo.fit(trainset)\n",
    "    predictions = algo.test(testset)\n",
    "\n",
    "    # Compute and print Root Mean Squared Error\n",
    "    accuracy.rmse(predictions, verbose=True)\n",
    "    accuracy.mse(predictions, verbose=True)"
   ]
  },
  {
   "cell_type": "markdown",
   "metadata": {},
   "source": [
    "## 6. Slope one"
   ]
  },
  {
   "cell_type": "code",
   "execution_count": 73,
   "metadata": {},
   "outputs": [
    {
     "name": "stdout",
     "output_type": "stream",
     "text": [
      "Evaluating RMSE, MAE of algorithm SlopeOne on 3 split(s).\n",
      "\n",
      "                  Fold 1  Fold 2  Fold 3  Mean    Std     \n",
      "RMSE (testset)    0.8683  0.8674  0.8696  0.8685  0.0009  \n",
      "MAE (testset)     0.6655  0.6649  0.6675  0.6660  0.0011  \n",
      "Fit time          18.54   19.87   19.29   19.23   0.54    \n",
      "Test time         86.61   88.25   83.20   86.02   2.10    \n"
     ]
    },
    {
     "data": {
      "text/plain": [
       "{'test_rmse': array([0.86830428, 0.86743526, 0.8696239 ]),\n",
       " 'test_mae': array([0.66545982, 0.66489789, 0.66749463]),\n",
       " 'fit_time': (18.543408393859863, 19.8679096698761, 19.28543758392334),\n",
       " 'test_time': (86.6104302406311, 88.24843502044678, 83.19760584831238)}"
      ]
     },
     "execution_count": 73,
     "metadata": {},
     "output_type": "execute_result"
    }
   ],
   "source": [
    "algo = SlopeOne()\n",
    "\n",
    "cross_validate(algo, data_rating, measures=['RMSE', 'MAE'], cv=3, verbose=True)"
   ]
  }
 ],
 "metadata": {
  "kernelspec": {
   "display_name": "Python 3",
   "language": "python",
   "name": "python3"
  },
  "language_info": {
   "codemirror_mode": {
    "name": "ipython",
    "version": 3
   },
   "file_extension": ".py",
   "mimetype": "text/x-python",
   "name": "python",
   "nbconvert_exporter": "python",
   "pygments_lexer": "ipython3",
   "version": "3.7.4"
  },
  "toc": {
   "base_numbering": 1,
   "nav_menu": {},
   "number_sections": false,
   "sideBar": true,
   "skip_h1_title": false,
   "title_cell": "Table of Contents",
   "title_sidebar": "Contents",
   "toc_cell": true,
   "toc_position": {
    "height": "calc(100% - 180px)",
    "left": "10px",
    "top": "150px",
    "width": "307.2px"
   },
   "toc_section_display": true,
   "toc_window_display": true
  }
 },
 "nbformat": 4,
 "nbformat_minor": 2
}
