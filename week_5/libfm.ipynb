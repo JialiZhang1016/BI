{
 "cells": [
  {
   "cell_type": "markdown",
   "metadata": {
    "toc": true
   },
   "source": [
    "<h1>Table of Contents<span class=\"tocSkip\"></span></h1>\n",
    "<div class=\"toc\"><ul class=\"toc-item\"><li><span><a href=\"#1:-对train.csv和test.csv进行处理\" data-toc-modified-id=\"1:-对train.csv和test.csv进行处理-1\">1: 对train.csv和test.csv进行处理</a></span><ul class=\"toc-item\"><li><span><a href=\"#1.1-将train.csv,-test.csv转换成libfm格式\" data-toc-modified-id=\"1.1-将train.csv,-test.csv转换成libfm格式-1.1\">1.1 将train.csv, test.csv转换成libfm格式</a></span></li><li><span><a href=\"#1.2-去掉列名，针对test.csv增加虚拟target列（值设置为1）\" data-toc-modified-id=\"1.2-去掉列名，针对test.csv增加虚拟target列（值设置为1）-1.2\">1.2 去掉列名，针对test.csv增加虚拟target列（值设置为1）</a></span></li><li><span><a href=\"#1.3-结果如下\" data-toc-modified-id=\"1.3-结果如下-1.3\">1.3 结果如下</a></span><ul class=\"toc-item\"><li><span><a href=\"#原始数据格式\" data-toc-modified-id=\"原始数据格式-1.3.1\">原始数据格式</a></span></li><li><span><a href=\"#处理后数据格式\" data-toc-modified-id=\"处理后数据格式-1.3.2\">处理后数据格式</a></span></li></ul></li></ul></li><li><span><a href=\"#2:-使用libfm进行训练，\" data-toc-modified-id=\"2:-使用libfm进行训练，-2\">2: 使用libfm进行训练，</a></span><ul class=\"toc-item\"><li><span><a href=\"#2.1-使用SGD算法\" data-toc-modified-id=\"2.1-使用SGD算法-2.1\">2.1 使用SGD算法</a></span></li><li><span><a href=\"#2.2-输出结果文件\" data-toc-modified-id=\"2.2-输出结果文件-2.2\">2.2 输出结果文件</a></span></li><li><span><a href=\"#2.3-训练过程\" data-toc-modified-id=\"2.3-训练过程-2.3\">2.3 训练过程</a></span></li><li><span><a href=\"#2.4-out_txt结果\" data-toc-modified-id=\"2.4-out_txt结果-2.4\">2.4 out_txt结果</a></span></li></ul></li></ul></div>"
   ]
  },
  {
   "attachments": {},
   "cell_type": "markdown",
   "metadata": {},
   "source": [
    "## 1: 对train.csv和test.csv进行处理\n",
    "\n",
    "\n",
    "### 1.1 将train.csv, test.csv转换成libfm格式\n",
    "```{perl}\n",
    "perl triple_format_to_libfm.pl -in ./titanic/train.csv\n",
    "```\n",
    "### 1.2 去掉列名，针对test.csv增加虚拟target列（值设置为1）\n",
    "```{perl}\n",
    "-target i\n",
    "```"
   ]
  },
  {
   "cell_type": "markdown",
   "metadata": {},
   "source": [
    "- C:\\Users\\Jiali Zhang>**cd C:\\Users\\Jiali Zhang\\Desktop\\0001\\libfm**\n",
    "- C:\\Users\\Jiali Zhang\\Desktop\\0001\\libfm>**perl triple_format_to_libfm.pl -in ./titanic/train.csv -target 1 -delete_column 0 -separator \",\"**  \n",
    "transforming file ./titanic/train.csv to ./titanic/train.csv.libfm...\n",
    "- C:\\Users\\Jiali Zhang\\Desktop\\0001\\libfm>**perl triple_format_to_libfm.pl -in ./titanic/test.csv -target 1 -delete_column 0 -separator \",\"**  \n",
    "transforming file ./titanic/test.csv to ./titanic/test.csv.libfm..."
   ]
  },
  {
   "cell_type": "markdown",
   "metadata": {},
   "source": [
    "### 1.3 结果如下\n",
    "#### 原始数据格式\n",
    "![train_csv](image/train_csv.png)"
   ]
  },
  {
   "cell_type": "markdown",
   "metadata": {},
   "source": [
    "#### 处理后数据格式\n",
    "![train_libfm](image/train_libfm.png)"
   ]
  },
  {
   "cell_type": "markdown",
   "metadata": {},
   "source": [
    "**从结果中我们可以看出：**\n",
    "- 删除了原始csv表格中的第一列index列，因为这列没有实际意义\n",
    "- libfm文件中第一列为我们的目标变量\n",
    "- libfm文件中的从第二列开始使用one-hot编码，**`i:j`**中，`i`表示稀疏矩阵的列的index，`j=1`表示该位置有值（值为列名）\n",
    "- libfm是一个稀疏矩阵"
   ]
  },
  {
   "attachments": {},
   "cell_type": "markdown",
   "metadata": {},
   "source": [
    "## 2: 使用libfm进行训练，\n",
    "### 2.1 使用SGD算法\n",
    "```{perl}\n",
    "-method sgd \\\n",
    "-learn_rate 0.01 \\\n",
    "-regular '0,0,0.01'\n",
    "```\n",
    "### 2.2 输出结果文件\n",
    "```{perl}\n",
    "-out titanic_out.txt\n",
    "```\n"
   ]
  },
  {
   "cell_type": "markdown",
   "metadata": {},
   "source": [
    "- C:\\Users\\Jiali Zhang\\Desktop\\0001\\libfm>**libFM -task c -train ./titanic/train.csv.libfm -test ./titanic/test.csv.libfm -dim '1,1,8' -method sgd -learn_rate 0.01 -regular '0,0,0.01' -out titanic_out.txt**"
   ]
  },
  {
   "cell_type": "markdown",
   "metadata": {},
   "source": [
    "### 2.3 训练过程"
   ]
  },
  {
   "cell_type": "markdown",
   "metadata": {},
   "source": [
    "```{txt}\n",
    "----------------------------------------------------------------------------\n",
    "libFM\n",
    "  Version: 1.40\n",
    "  Author:  Steffen Rendle, steffen.rendle@uni-konstanz.de\n",
    "  WWW:     http://www.libfm.org/\n",
    "  License: Free for academic use. See license.txt.\n",
    "  \n",
    "----------------------------------------------------------------------------\n",
    "Loading train...\n",
    "has x = 1\n",
    "has xt = 0\n",
    "num_rows=891    num_values=9799 num_features=2658       min_target=0    max_target=1\n",
    "Loading test...\n",
    "has x = 1\n",
    "has xt = 0\n",
    "num_rows=418    num_values=4598 num_features=1446       min_target=1    max_target=1\n",
    "#relations: 0\n",
    "Loading meta data...\n",
    "learnrate=0.01\n",
    "learnrates=0.01,0.01,0.01\n",
    "#iterations=100\n",
    "SGD: DON'T FORGET TO SHUFFLE THE ROWS IN TRAINING DATA TO GET THE BEST RESULTS.\n",
    "#Iter=  0       Train=0.809203  Test=0.131579\n",
    "#Iter=  1       Train=0.840629  Test=0.136364\n",
    "#Iter=  2       Train=0.860831  Test=0.124402\n",
    "#Iter=  3       Train=0.873176  Test=0.11244\n",
    "#Iter=  4       Train=0.87991   Test=0.102871\n",
    "#Iter=  5       Train=0.902357  Test=0.0956938\n",
    "#Iter=  6       Train=0.915825  Test=0.0956938\n",
    "#Iter=  7       Train=0.923681  Test=0.0885167\n",
    "#Iter=  8       Train=0.934905  Test=0.0861244\n",
    "#Iter=  9       Train=0.943883  Test=0.0837321\n",
    "#Iter= 10       Train=0.949495  Test=0.0789474\n",
    "#Iter= 11       Train=0.955107  Test=0.0789474\n",
    "#Iter= 12       Train=0.965208  Test=0.0741627\n",
    "#Iter= 13       Train=0.973064  Test=0.0717703\n",
    "#Iter= 14       Train=0.978676  Test=0.0741627\n",
    "#Iter= 15       Train=0.98092   Test=0.069378\n",
    "#Iter= 16       Train=0.987654  Test=0.0645933\n",
    "#Iter= 17       Train=0.989899  Test=0.0574163\n",
    "#Iter= 18       Train=0.992144  Test=0.0574163\n",
    "#Iter= 19       Train=0.995511  Test=0.0574163\n",
    "#Iter= 20       Train=0.997755  Test=0.0574163\n",
    "#Iter= 21       Train=0.997755  Test=0.0574163\n",
    "#Iter= 22       Train=0.998878  Test=0.0574163\n",
    "#Iter= 23       Train=0.998878  Test=0.0574163\n",
    "#Iter= 24       Train=1 Test=0.0598086\n",
    "#Iter= 25       Train=1 Test=0.0598086\n",
    "#Iter= 26       Train=1 Test=0.0598086\n",
    "#Iter= 27       Train=1 Test=0.0598086\n",
    "#Iter= 28       Train=1 Test=0.062201\n",
    "#Iter= 29       Train=1 Test=0.062201\n",
    "#Iter= 30       Train=1 Test=0.062201\n",
    "#Iter= 31       Train=1 Test=0.062201\n",
    "#Iter= 32       Train=1 Test=0.062201\n",
    "#Iter= 33       Train=1 Test=0.062201\n",
    "#Iter= 34       Train=1 Test=0.0645933\n",
    "#Iter= 35       Train=1 Test=0.0645933\n",
    "#Iter= 36       Train=1 Test=0.0669856\n",
    "#Iter= 37       Train=1 Test=0.069378\n",
    "#Iter= 38       Train=1 Test=0.069378\n",
    "#Iter= 39       Train=1 Test=0.069378\n",
    "#Iter= 40       Train=1 Test=0.069378\n",
    "#Iter= 41       Train=1 Test=0.069378\n",
    "#Iter= 42       Train=1 Test=0.069378\n",
    "#Iter= 43       Train=1 Test=0.069378\n",
    "#Iter= 44       Train=1 Test=0.0741627\n",
    "#Iter= 45       Train=1 Test=0.0741627\n",
    "#Iter= 46       Train=1 Test=0.0741627\n",
    "#Iter= 47       Train=1 Test=0.0741627\n",
    "#Iter= 48       Train=1 Test=0.0741627\n",
    "#Iter= 49       Train=1 Test=0.0741627\n",
    "#Iter= 50       Train=1 Test=0.0741627\n",
    "#Iter= 51       Train=1 Test=0.0741627\n",
    "#Iter= 52       Train=1 Test=0.0741627\n",
    "#Iter= 53       Train=1 Test=0.0741627\n",
    "#Iter= 54       Train=1 Test=0.0741627\n",
    "#Iter= 55       Train=1 Test=0.0741627\n",
    "#Iter= 56       Train=1 Test=0.0741627\n",
    "#Iter= 57       Train=1 Test=0.0741627\n",
    "#Iter= 58       Train=1 Test=0.0741627\n",
    "#Iter= 59       Train=1 Test=0.0741627\n",
    "#Iter= 60       Train=1 Test=0.0741627\n",
    "#Iter= 61       Train=1 Test=0.0741627\n",
    "#Iter= 62       Train=1 Test=0.0741627\n",
    "#Iter= 63       Train=1 Test=0.0741627\n",
    "#Iter= 64       Train=1 Test=0.0741627\n",
    "#Iter= 65       Train=1 Test=0.0741627\n",
    "#Iter= 66       Train=1 Test=0.0741627\n",
    "#Iter= 67       Train=1 Test=0.0741627\n",
    "#Iter= 68       Train=1 Test=0.0741627\n",
    "#Iter= 69       Train=1 Test=0.0741627\n",
    "#Iter= 70       Train=1 Test=0.0741627\n",
    "#Iter= 71       Train=1 Test=0.0741627\n",
    "#Iter= 72       Train=1 Test=0.076555\n",
    "#Iter= 73       Train=1 Test=0.0789474\n",
    "#Iter= 74       Train=1 Test=0.0789474\n",
    "#Iter= 75       Train=1 Test=0.0789474\n",
    "#Iter= 76       Train=1 Test=0.0789474\n",
    "#Iter= 77       Train=1 Test=0.0789474\n",
    "#Iter= 78       Train=1 Test=0.0789474\n",
    "#Iter= 79       Train=1 Test=0.0789474\n",
    "#Iter= 80       Train=1 Test=0.0789474\n",
    "#Iter= 81       Train=1 Test=0.0789474\n",
    "#Iter= 82       Train=1 Test=0.0789474\n",
    "#Iter= 83       Train=1 Test=0.0789474\n",
    "#Iter= 84       Train=1 Test=0.0789474\n",
    "#Iter= 85       Train=1 Test=0.0789474\n",
    "#Iter= 86       Train=1 Test=0.0789474\n",
    "#Iter= 87       Train=1 Test=0.0789474\n",
    "#Iter= 88       Train=1 Test=0.0789474\n",
    "#Iter= 89       Train=1 Test=0.0789474\n",
    "#Iter= 90       Train=1 Test=0.0789474\n",
    "#Iter= 91       Train=1 Test=0.0789474\n",
    "#Iter= 92       Train=1 Test=0.0789474\n",
    "#Iter= 93       Train=1 Test=0.0789474\n",
    "#Iter= 94       Train=1 Test=0.0789474\n",
    "#Iter= 95       Train=1 Test=0.0789474\n",
    "#Iter= 96       Train=1 Test=0.0813397\n",
    "#Iter= 97       Train=1 Test=0.0813397\n",
    "#Iter= 98       Train=1 Test=0.0813397\n",
    "#Iter= 99       Train=1 Test=0.0813397\n",
    "Final   Train=1 Test=0.0813397\n",
    "```"
   ]
  },
  {
   "cell_type": "markdown",
   "metadata": {},
   "source": [
    "**结果显示，当iter=24的时候，训练集的正确率已经达到了1，但是测试集的正确率非常低，而且在不断变得更低。这是由于数据过拟合造成的**"
   ]
  },
  {
   "cell_type": "markdown",
   "metadata": {},
   "source": [
    "### 2.4 out_txt结果\n",
    "\n",
    "![out.txt](image/out.png)"
   ]
  },
  {
   "cell_type": "code",
   "execution_count": null,
   "metadata": {},
   "outputs": [],
   "source": []
  }
 ],
 "metadata": {
  "kernelspec": {
   "display_name": "Python 3",
   "language": "python",
   "name": "python3"
  },
  "language_info": {
   "codemirror_mode": {
    "name": "ipython",
    "version": 3
   },
   "file_extension": ".py",
   "mimetype": "text/x-python",
   "name": "python",
   "nbconvert_exporter": "python",
   "pygments_lexer": "ipython3",
   "version": "3.7.4"
  },
  "toc": {
   "base_numbering": 1,
   "nav_menu": {},
   "number_sections": false,
   "sideBar": true,
   "skip_h1_title": false,
   "title_cell": "Table of Contents",
   "title_sidebar": "Contents",
   "toc_cell": true,
   "toc_position": {},
   "toc_section_display": true,
   "toc_window_display": true
  }
 },
 "nbformat": 4,
 "nbformat_minor": 2
}
