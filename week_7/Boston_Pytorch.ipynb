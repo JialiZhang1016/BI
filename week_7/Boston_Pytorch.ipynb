{
 "cells": [
  {
   "cell_type": "markdown",
   "metadata": {
    "toc": true
   },
   "source": [
    "<h1>Table of Contents<span class=\"tocSkip\"></span></h1>\n",
    "<div class=\"toc\"><ul class=\"toc-item\"><li><span><a href=\"#Part1:-Anaconda-使用虚拟环境配置pytorch\" data-toc-modified-id=\"Part1:-Anaconda-使用虚拟环境配置pytorch-1\">Part1: Anaconda 使用虚拟环境配置pytorch</a></span><ul class=\"toc-item\"><li><span><a href=\"#1.-点击开始菜单，进入Anaconda-Prompt命令行\" data-toc-modified-id=\"1.-点击开始菜单，进入Anaconda-Prompt命令行-1.1\">1. 点击开始菜单，进入Anaconda Prompt命令行</a></span></li><li><span><a href=\"#2.-在命令行中输入以下命令\" data-toc-modified-id=\"2.-在命令行中输入以下命令-1.2\">2. 在命令行中输入以下命令</a></span></li><li><span><a href=\"#3.-创建新的conda虚拟环境\" data-toc-modified-id=\"3.-创建新的conda虚拟环境-1.3\">3. 创建新的conda虚拟环境</a></span></li><li><span><a href=\"#4.-安装Pytorch\" data-toc-modified-id=\"4.-安装Pytorch-1.4\">4. 安装Pytorch</a></span></li><li><span><a href=\"#5.-在jupyter里面添加虚拟环境\" data-toc-modified-id=\"5.-在jupyter里面添加虚拟环境-1.5\">5. 在jupyter里面添加虚拟环境</a></span></li></ul></li><li><span><a href=\"#Part2:\" data-toc-modified-id=\"Part2:-2\">Part2:</a></span><ul class=\"toc-item\"><li><span><a href=\"#1.-Load-data\" data-toc-modified-id=\"1.-Load-data-2.1\">1. Load data</a></span></li><li><span><a href=\"#2.-Prepare-data\" data-toc-modified-id=\"2.-Prepare-data-2.2\">2. Prepare data</a></span><ul class=\"toc-item\"><li><span><a href=\"#2.1-reshape-y\" data-toc-modified-id=\"2.1-reshape-y-2.2.1\">2.1 reshape y</a></span></li><li><span><a href=\"#2.2-data-normalization\" data-toc-modified-id=\"2.2-data-normalization-2.2.2\">2.2 data normalization</a></span></li><li><span><a href=\"#2.3-put-data-into-torch-(numpy-to-torch)\" data-toc-modified-id=\"2.3-put-data-into-torch-(numpy-to-torch)-2.2.3\">2.3 put data into torch (numpy to torch)</a></span></li><li><span><a href=\"#2.4-splite-train-and-test-data-set\" data-toc-modified-id=\"2.4-splite-train-and-test-data-set-2.2.4\">2.4 splite train and test data set</a></span></li></ul></li><li><span><a href=\"#3.-Prepare-model\" data-toc-modified-id=\"3.-Prepare-model-2.3\">3. Prepare model</a></span><ul class=\"toc-item\"><li><span><a href=\"#3.1-define-the-network\" data-toc-modified-id=\"3.1-define-the-network-2.3.1\">3.1 define the network</a></span></li><li><span><a href=\"#3.2-define-the-loss-function-and-optimizer\" data-toc-modified-id=\"3.2-define-the-loss-function-and-optimizer-2.3.2\">3.2 define the loss function and optimizer</a></span></li></ul></li><li><span><a href=\"#4.-model-training\" data-toc-modified-id=\"4.-model-training-2.4\">4. model training</a></span></li><li><span><a href=\"#5.-Visualize-the-results\" data-toc-modified-id=\"5.-Visualize-the-results-2.5\">5. Visualize the results</a></span><ul class=\"toc-item\"><li><span><a href=\"#5.1-plot-the-loss\" data-toc-modified-id=\"5.1-plot-the-loss-2.5.1\">5.1 plot the loss</a></span></li><li><span><a href=\"#5.2-plot-true-VS-predict\" data-toc-modified-id=\"5.2-plot-true-VS-predict-2.5.2\">5.2 plot true VS predict</a></span></li></ul></li></ul></li></ul></div>"
   ]
  },
  {
   "cell_type": "markdown",
   "metadata": {},
   "source": [
    "# Part1: Anaconda 使用虚拟环境配置pytorch\n",
    "参考：\n",
    "- https://www.cnblogs.com/yufeng97/p/13069247.html\n",
    "- https://xirikm.net/2019/319-1\n",
    "- https://www.cnblogs.com/somedayLi/p/12320878.html"
   ]
  },
  {
   "cell_type": "markdown",
   "metadata": {},
   "source": [
    "## 1. 点击开始菜单，进入Anaconda Prompt命令行\n",
    "\n",
    "## 2. 在命令行中输入以下命令"
   ]
  },
  {
   "cell_type": "raw",
   "metadata": {},
   "source": [
    "# 添加清华镜像\n",
    "conda config --add channels https://mirrors.tuna.tsinghua.edu.cn/anaconda/pkgs/free/\n",
    "conda config --add channels https://mirrors.tuna.tsinghua.edu.cn/anaconda/pkgs/main/\n",
    "\n",
    "# 添加pytorch镜像\n",
    "conda config --add channels https://mirrors.tuna.tsinghua.edu.cn/anaconda/cloud/pytorch/\n",
    "\n",
    "# for legacy win-64\n",
    "conda config --add channels https://mirrors.tuna.tsinghua.edu.cn/anaconda/cloud/peterjc123/\n",
    "conda config --set show_channel_urls yes"
   ]
  },
  {
   "cell_type": "markdown",
   "metadata": {},
   "source": [
    "## 3. 创建新的conda虚拟环境"
   ]
  },
  {
   "cell_type": "raw",
   "metadata": {},
   "source": [
    "conda create --name pytorch python=3.7\n",
    "\n",
    "# 激活 进入新环境\n",
    "activate pytorch"
   ]
  },
  {
   "cell_type": "markdown",
   "metadata": {},
   "source": [
    "## 4. 安装Pytorch\n",
    "- 这里比官网的命令少了一个`-c pytorch`。主要是因为`-c pytorch`表示指定使用pytorch channel，这个服务器位于国外，下载速度很慢，使用刚刚添加进default channel的清华镜像源可以得到一个较快的下载速度。\n",
    "- cuda 的版本要根据自己的电脑配置来，这里我的是11.0。"
   ]
  },
  {
   "cell_type": "raw",
   "metadata": {},
   "source": [
    "conda install pytorch torchvision cudatoolkit=11.0"
   ]
  },
  {
   "cell_type": "markdown",
   "metadata": {},
   "source": [
    "## 5. 在jupyter里面添加虚拟环境"
   ]
  },
  {
   "cell_type": "raw",
   "metadata": {},
   "source": [
    "conda activate pytorch\n",
    "\n",
    "conda install ipykernel\n",
    "\n",
    "python -m ipykernel install --user --name pytorch --display-name \"Python (pytorch)\""
   ]
  },
  {
   "cell_type": "raw",
   "metadata": {},
   "source": [
    "# 后面我一直报错，显示找不到ddl，解决方法如下：\n",
    "pip uninstall pyzmq\n",
    "pip install pyzmq"
   ]
  },
  {
   "cell_type": "markdown",
   "metadata": {},
   "source": [
    "# Part2: "
   ]
  },
  {
   "cell_type": "code",
   "execution_count": 1,
   "metadata": {},
   "outputs": [],
   "source": [
    "import numpy as np\n",
    "import torch\n",
    "from torch import nn\n",
    "from sklearn.preprocessing import MinMaxScaler\n",
    "from sklearn.model_selection import train_test_split\n",
    "from sklearn.datasets import load_boston\n",
    "import matplotlib.pyplot as plt"
   ]
  },
  {
   "cell_type": "markdown",
   "metadata": {},
   "source": [
    "## 1. Load data"
   ]
  },
  {
   "cell_type": "code",
   "execution_count": 2,
   "metadata": {},
   "outputs": [
    {
     "name": "stdout",
     "output_type": "stream",
     "text": [
      "(506, 13)\n",
      "(506,)\n"
     ]
    }
   ],
   "source": [
    "boston = load_boston()\n",
    "y = boston['target']\n",
    "x = boston['data']\n",
    "print(x.shape)\n",
    "print(y.shape)"
   ]
  },
  {
   "cell_type": "markdown",
   "metadata": {},
   "source": [
    "## 2. Prepare data\n",
    "### 2.1 reshape y"
   ]
  },
  {
   "cell_type": "code",
   "execution_count": 3,
   "metadata": {},
   "outputs": [],
   "source": [
    "y = y.reshape(-1,1)"
   ]
  },
  {
   "cell_type": "markdown",
   "metadata": {},
   "source": [
    "### 2.2 data normalization"
   ]
  },
  {
   "cell_type": "code",
   "execution_count": 4,
   "metadata": {},
   "outputs": [],
   "source": [
    "minMaxScaler = MinMaxScaler()\n",
    "x = minMaxScaler.fit_transform(x)"
   ]
  },
  {
   "cell_type": "markdown",
   "metadata": {},
   "source": [
    "### 2.3 put data into torch (numpy to torch)"
   ]
  },
  {
   "cell_type": "code",
   "execution_count": 5,
   "metadata": {},
   "outputs": [],
   "source": [
    "x = torch.from_numpy(x).type(torch.FloatTensor)\n",
    "y = torch.from_numpy(y).type(torch.FloatTensor)"
   ]
  },
  {
   "cell_type": "markdown",
   "metadata": {},
   "source": [
    "### 2.4 splite train and test data set"
   ]
  },
  {
   "cell_type": "code",
   "execution_count": 6,
   "metadata": {},
   "outputs": [],
   "source": [
    "train_x, test_x, train_y, test_y = train_test_split(x,y,test_size=0.25)"
   ]
  },
  {
   "cell_type": "markdown",
   "metadata": {},
   "source": [
    "## 3. Prepare model\n",
    "### 3.1 define the network "
   ]
  },
  {
   "cell_type": "code",
   "execution_count": 7,
   "metadata": {},
   "outputs": [],
   "source": [
    "model = nn.Sequential(\n",
    "    # input layer is 13; input layer number must be the number of input variables\n",
    "    # hidden layer is 10; hidden layer number is defined by people\n",
    "    nn.Linear(13, 10),\n",
    "    # activation function is ReLU\n",
    "    nn.ReLU(),\n",
    "    # hidden layer is 10\n",
    "    # out put layer is 1\n",
    "    nn.Linear(10,1)\n",
    ")"
   ]
  },
  {
   "cell_type": "markdown",
   "metadata": {},
   "source": [
    "### 3.2 define the loss function and optimizer"
   ]
  },
  {
   "cell_type": "code",
   "execution_count": 8,
   "metadata": {},
   "outputs": [],
   "source": [
    "loss_func = nn.MSELoss()\n",
    "optimizer = torch.optim.Adam(model.parameters(), lr=0.01)\n",
    "# optimizer = torch.optim.SGD(model.parameters(), lr=0.01)"
   ]
  },
  {
   "cell_type": "markdown",
   "metadata": {},
   "source": [
    "## 4. model training"
   ]
  },
  {
   "cell_type": "code",
   "execution_count": 9,
   "metadata": {},
   "outputs": [],
   "source": [
    "max_epoch = 5000\n",
    "iter_loss = []\n",
    "for epoch in range(max_epoch):\n",
    "    # forward propagation\n",
    "    y_pred = model(train_x)\n",
    "    # calculate the loss\n",
    "    loss = loss_func(y_pred, train_y)\n",
    "    # save loss to iter_loss\n",
    "    iter_loss.append(loss.item())\n",
    "    # clear the gradient\n",
    "    optimizer.zero_grad()\n",
    "    # backward propagation\n",
    "    loss.backward() \n",
    "    # parameter update\n",
    "    optimizer.step()\n",
    "    \n",
    "output = model(test_x)\n",
    "predict_list = output.detach().numpy()"
   ]
  },
  {
   "cell_type": "markdown",
   "metadata": {},
   "source": [
    "## 5. Visualize the results\n",
    "### 5.1 plot the loss"
   ]
  },
  {
   "cell_type": "code",
   "execution_count": 10,
   "metadata": {},
   "outputs": [
    {
     "data": {
      "image/png": "[encoded data removed]",
      "text/plain": [
       "<Figure size 432x288 with 1 Axes>"
      ]
     },
     "metadata": {
      "needs_background": "light"
     },
     "output_type": "display_data"
    }
   ],
   "source": [
    "loss_x = np.arange(max_epoch)\n",
    "loss_y = np.array(iter_loss) # list to nparray\n",
    "plt.plot(loss_x, loss_y)\n",
    "plt.title('Loss value in all iterations')\n",
    "plt.xlabel('Iteration')\n",
    "plt.ylabel('Mean Loss Value')\n",
    "plt.show()"
   ]
  },
  {
   "cell_type": "markdown",
   "metadata": {},
   "source": [
    "### 5.2 plot true VS predict"
   ]
  },
  {
   "cell_type": "code",
   "execution_count": 11,
   "metadata": {},
   "outputs": [
    {
     "data": {
      "image/png": "[encoded data removed]",
      "text/plain": [
       "<Figure size 432x288 with 1 Axes>"
      ]
     },
     "metadata": {
      "needs_background": "light"
     },
     "output_type": "display_data"
    }
   ],
   "source": [
    "x = np.arange(test_x.shape[0])   # x\n",
    "y1 = np.array(predict_list)      # predict result\n",
    "y2 = np.array(test_y)            # true result\n",
    "line1 = plt.scatter(x, y1, c='green',label='predict')\n",
    "line2 = plt.scatter(x, y2, c='orange',label='true')\n",
    "plt.legend(loc='best')\n",
    "plt.title('Prediction VS Ture')\n",
    "plt.ylabel('House price')\n",
    "plt.show()"
   ]
  },
  {
   "cell_type": "markdown",
   "metadata": {},
   "source": [
    "**Scatter plot can not show the pair relationship of predict and true, maybe line plot is better.**"
   ]
  },
  {
   "cell_type": "code",
   "execution_count": 12,
   "metadata": {},
   "outputs": [
    {
     "data": {
      "image/png": "[encoded data removed]",
      "text/plain": [
       "<Figure size 432x288 with 1 Axes>"
      ]
     },
     "metadata": {
      "needs_background": "light"
     },
     "output_type": "display_data"
    }
   ],
   "source": [
    "x = np.arange(test_x.shape[0])   # x\n",
    "y1 = np.array(predict_list)      # predict result\n",
    "y2 = np.array(test_y)            # true result\n",
    "line1 = plt.plot(x, y1, c='green',label='predict',lw=0.5)\n",
    "line2 = plt.plot(x, y2, c='orange',label='true',lw=0.5)\n",
    "plt.legend(loc='best')\n",
    "plt.title('Prediction VS Ture')\n",
    "plt.ylabel('House price')\n",
    "plt.show()"
   ]
  },
  {
   "cell_type": "code",
   "execution_count": null,
   "metadata": {},
   "outputs": [],
   "source": []
  }
 ],
 "metadata": {
  "kernelspec": {
   "display_name": "Python (torch)",
   "language": "python",
   "name": "pytorch"
  },
  "language_info": {
   "codemirror_mode": {
    "name": "ipython",
    "version": 3
   },
   "file_extension": ".py",
   "mimetype": "text/x-python",
   "name": "python",
   "nbconvert_exporter": "python",
   "pygments_lexer": "ipython3",
   "version": "3.6.12"
  },
  "toc": {
   "base_numbering": 1,
   "nav_menu": {},
   "number_sections": false,
   "sideBar": true,
   "skip_h1_title": false,
   "title_cell": "Table of Contents",
   "title_sidebar": "Contents",
   "toc_cell": true,
   "toc_position": {},
   "toc_section_display": true,
   "toc_window_display": true
  }
 },
 "nbformat": 4,
 "nbformat_minor": 2
}
