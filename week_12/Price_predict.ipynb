{
 "cells": [
  {
   "cell_type": "markdown",
   "metadata": {
    "toc": true
   },
   "source": [
    "<h1>Table of Contents<span class=\"tocSkip\"></span></h1>\n",
    "<div class=\"toc\"><ul class=\"toc-item\"><li><span><a href=\"#1.-加载数据\" data-toc-modified-id=\"1.-加载数据-1\">1. 加载数据</a></span></li><li><span><a href=\"#2.-数据清洗\" data-toc-modified-id=\"2.-数据清洗-2\">2. 数据清洗</a></span></li><li><span><a href=\"#3.-特征构造\" data-toc-modified-id=\"3.-特征构造-3\">3. 特征构造</a></span></li><li><span><a href=\"#4.-数据拆分\" data-toc-modified-id=\"4.-数据拆分-4\">4. 数据拆分</a></span></li><li><span><a href=\"#5.-模型训练\" data-toc-modified-id=\"5.-模型训练-5\">5. 模型训练</a></span><ul class=\"toc-item\"><li><span><a href=\"#5.1-LR\" data-toc-modified-id=\"5.1-LR-5.1\">5.1 LR</a></span></li><li><span><a href=\"#5.2-tree\" data-toc-modified-id=\"5.2-tree-5.2\">5.2 tree</a></span></li><li><span><a href=\"#5.3-GBDT\" data-toc-modified-id=\"5.3-GBDT-5.3\">5.3 GBDT</a></span></li><li><span><a href=\"#5.4-GBDT+LR\" data-toc-modified-id=\"5.4-GBDT+LR-5.4\">5.4 GBDT+LR</a></span></li></ul></li><li><span><a href=\"#6.-结果比较\" data-toc-modified-id=\"6.-结果比较-6\">6. 结果比较</a></span></li></ul></div>"
   ]
  },
  {
   "cell_type": "code",
   "execution_count": 1,
   "metadata": {},
   "outputs": [],
   "source": [
    "import pandas as pd\n",
    "import numpy as np\n",
    "from sklearn.linear_model import LinearRegression\n",
    "from sklearn.preprocessing import StandardScaler, OneHotEncoder\n",
    "from sklearn.model_selection import train_test_split\n",
    "from sklearn.metrics import mean_absolute_error\n",
    "from sklearn.ensemble import GradientBoostingRegressor, GradientBoostingClassifier,  RandomForestRegressor\n",
    "from sklearn.tree import DecisionTreeRegressor\n",
    "import matplotlib.pyplot as plt\n",
    "import warnings\n",
    "warnings.filterwarnings('ignore')"
   ]
  },
  {
   "cell_type": "markdown",
   "metadata": {},
   "source": [
    "## 1. 加载数据"
   ]
  },
  {
   "cell_type": "code",
   "execution_count": 2,
   "metadata": {},
   "outputs": [],
   "source": [
    "data_train = pd.read_csv('./used_car_train_20200313.csv', sep=' ')\n",
    "data_submit = pd.read_csv('./used_car_testA_20200313.csv', sep=' ')"
   ]
  },
  {
   "cell_type": "code",
   "execution_count": 3,
   "metadata": {},
   "outputs": [
    {
     "name": "stdout",
     "output_type": "stream",
     "text": [
      "<class 'pandas.core.frame.DataFrame'>\n",
      "RangeIndex: 150000 entries, 0 to 149999\n",
      "Data columns (total 31 columns):\n",
      " #   Column             Non-Null Count   Dtype  \n",
      "---  ------             --------------   -----  \n",
      " 0   SaleID             150000 non-null  int64  \n",
      " 1   name               150000 non-null  int64  \n",
      " 2   regDate            150000 non-null  int64  \n",
      " 3   model              149999 non-null  float64\n",
      " 4   brand              150000 non-null  int64  \n",
      " 5   bodyType           145494 non-null  float64\n",
      " 6   fuelType           141320 non-null  float64\n",
      " 7   gearbox            144019 non-null  float64\n",
      " 8   power              150000 non-null  int64  \n",
      " 9   kilometer          150000 non-null  float64\n",
      " 10  notRepairedDamage  150000 non-null  object \n",
      " 11  regionCode         150000 non-null  int64  \n",
      " 12  seller             150000 non-null  int64  \n",
      " 13  offerType          150000 non-null  int64  \n",
      " 14  creatDate          150000 non-null  int64  \n",
      " 15  price              150000 non-null  int64  \n",
      " 16  v_0                150000 non-null  float64\n",
      " 17  v_1                150000 non-null  float64\n",
      " 18  v_2                150000 non-null  float64\n",
      " 19  v_3                150000 non-null  float64\n",
      " 20  v_4                150000 non-null  float64\n",
      " 21  v_5                150000 non-null  float64\n",
      " 22  v_6                150000 non-null  float64\n",
      " 23  v_7                150000 non-null  float64\n",
      " 24  v_8                150000 non-null  float64\n",
      " 25  v_9                150000 non-null  float64\n",
      " 26  v_10               150000 non-null  float64\n",
      " 27  v_11               150000 non-null  float64\n",
      " 28  v_12               150000 non-null  float64\n",
      " 29  v_13               150000 non-null  float64\n",
      " 30  v_14               150000 non-null  float64\n",
      "dtypes: float64(20), int64(10), object(1)\n",
      "memory usage: 35.5+ MB\n"
     ]
    }
   ],
   "source": [
    "data_train.info()"
   ]
  },
  {
   "cell_type": "code",
   "execution_count": 4,
   "metadata": {},
   "outputs": [
    {
     "name": "stdout",
     "output_type": "stream",
     "text": [
      "<class 'pandas.core.frame.DataFrame'>\n",
      "RangeIndex: 50000 entries, 0 to 49999\n",
      "Data columns (total 30 columns):\n",
      " #   Column             Non-Null Count  Dtype  \n",
      "---  ------             --------------  -----  \n",
      " 0   SaleID             50000 non-null  int64  \n",
      " 1   name               50000 non-null  int64  \n",
      " 2   regDate            50000 non-null  int64  \n",
      " 3   model              50000 non-null  float64\n",
      " 4   brand              50000 non-null  int64  \n",
      " 5   bodyType           48587 non-null  float64\n",
      " 6   fuelType           47107 non-null  float64\n",
      " 7   gearbox            48090 non-null  float64\n",
      " 8   power              50000 non-null  int64  \n",
      " 9   kilometer          50000 non-null  float64\n",
      " 10  notRepairedDamage  50000 non-null  object \n",
      " 11  regionCode         50000 non-null  int64  \n",
      " 12  seller             50000 non-null  int64  \n",
      " 13  offerType          50000 non-null  int64  \n",
      " 14  creatDate          50000 non-null  int64  \n",
      " 15  v_0                50000 non-null  float64\n",
      " 16  v_1                50000 non-null  float64\n",
      " 17  v_2                50000 non-null  float64\n",
      " 18  v_3                50000 non-null  float64\n",
      " 19  v_4                50000 non-null  float64\n",
      " 20  v_5                50000 non-null  float64\n",
      " 21  v_6                50000 non-null  float64\n",
      " 22  v_7                50000 non-null  float64\n",
      " 23  v_8                50000 non-null  float64\n",
      " 24  v_9                50000 non-null  float64\n",
      " 25  v_10               50000 non-null  float64\n",
      " 26  v_11               50000 non-null  float64\n",
      " 27  v_12               50000 non-null  float64\n",
      " 28  v_13               50000 non-null  float64\n",
      " 29  v_14               50000 non-null  float64\n",
      "dtypes: float64(20), int64(9), object(1)\n",
      "memory usage: 11.4+ MB\n"
     ]
    }
   ],
   "source": [
    "data_submit.info()"
   ]
  },
  {
   "cell_type": "code",
   "execution_count": 5,
   "metadata": {},
   "outputs": [],
   "source": [
    "# 变量类型\n",
    "date_columns        = ['creatDate', 'regDate']\n",
    "useless_columns     = ['SaleID', 'name', 'seller', 'offerType']\n",
    "label_columns       = ['price']\n",
    "categorical_columns = ['brand', 'bodyType', 'fuelType', 'gearbox', \n",
    "                       'notRepairedDamage', 'model','regionCode']\n",
    "numeric_columns     = ['power', 'kilometer', 'v_0', 'v_1', 'v_2', 'v_3', 'v_4', \n",
    "                       'v_5', 'v_6', 'v_7', 'v_8', 'v_9', \n",
    "                       'v_10', 'v_11', 'v_12','v_13', 'v_14']"
   ]
  },
  {
   "cell_type": "code",
   "execution_count": 6,
   "metadata": {},
   "outputs": [],
   "source": [
    "# 训练集数据\n",
    "features = data_train[numeric_columns + categorical_columns + date_columns + label_columns]\n",
    "labels = data_train[label_columns]"
   ]
  },
  {
   "cell_type": "code",
   "execution_count": 7,
   "metadata": {},
   "outputs": [],
   "source": [
    "# 测试集数据\n",
    "sub_features = data_submit[numeric_columns + categorical_columns + date_columns]"
   ]
  },
  {
   "cell_type": "markdown",
   "metadata": {},
   "source": [
    "## 2. 数据清洗"
   ]
  },
  {
   "cell_type": "code",
   "execution_count": 8,
   "metadata": {},
   "outputs": [],
   "source": [
    "# 非法值\n",
    "features['notRepairedDamage'] = features['notRepairedDamage'].apply(lambda x: int(float(x)) if x != '-' else 0)\n",
    "sub_features['notRepairedDamage'] = sub_features['notRepairedDamage'].apply(lambda x: int(float(x)) if x != '-' else 0)"
   ]
  },
  {
   "cell_type": "code",
   "execution_count": 9,
   "metadata": {},
   "outputs": [],
   "source": [
    "# 缺失值(均值、众数补全)\n",
    "null_columns = ['bodyType', 'fuelType', 'gearbox', 'model']\n",
    "for col in null_columns:\n",
    "    fill_value = features[col].mode().values[0]\n",
    "    features.fillna(value={col: fill_value}, inplace=True)\n",
    "    sub_features.fillna(value={col: fill_value}, inplace=True)"
   ]
  },
  {
   "cell_type": "markdown",
   "metadata": {},
   "source": [
    "## 3. 特征构造"
   ]
  },
  {
   "cell_type": "code",
   "execution_count": 10,
   "metadata": {},
   "outputs": [],
   "source": [
    "# 时间特征\n",
    "features['creatDate'] = pd.to_datetime(features['creatDate'], format='%Y%m%d')\n",
    "features['regDate'] = features['regDate'].apply(lambda x: str(x))\n",
    "features['regDate'] = features['regDate'].apply(lambda x: x[:4]+'01'+x[6:] if x[4:6] == '00' else x)\n",
    "features['regDate'] = pd.to_datetime(features['regDate'], format='%Y%m%d')\n",
    "features['new_date'] = features['creatDate'] - features['regDate']\n",
    "features['new_date'] = features['new_date'].apply(lambda x: x.days)\n",
    "features.drop(date_columns, axis=1, inplace=True)\n",
    "\n",
    "sub_features['creatDate'] = pd.to_datetime(sub_features['creatDate'], format='%Y%m%d')\n",
    "sub_features['regDate'] = sub_features['regDate'].apply(lambda x: str(x))\n",
    "sub_features['regDate'] = sub_features['regDate'].apply(lambda x: x[:4]+'01'+x[6:] if x[4:6] == '00' else x)\n",
    "sub_features['regDate'] = pd.to_datetime(sub_features['regDate'], format='%Y%m%d')\n",
    "sub_features['new_date'] = sub_features['creatDate'] - sub_features['regDate']\n",
    "sub_features['new_date'] = sub_features['new_date'].apply(lambda x: x.days)\n",
    "sub_features.drop(date_columns, axis=1, inplace=True)"
   ]
  },
  {
   "cell_type": "code",
   "execution_count": 11,
   "metadata": {},
   "outputs": [],
   "source": [
    "# 增加价格最大最小平均标准差\n",
    "add_col = ['brand']\n",
    "agg_method = ['max', 'min', 'mean', 'median']\n",
    "for col in add_col:\n",
    "    # 设置列名与获取列数据的字典形式\n",
    "    col_name = ['{}_{}'.format(col, x) for x in agg_method]\n",
    "    temp_dict = features.groupby(col)['price'].agg(agg_method).to_dict()\n",
    "    \n",
    "    # 建立列名\n",
    "    features = pd.concat([features, pd.DataFrame(columns=col_name)], axis=1)    \n",
    "    sub_features = pd.concat([sub_features, pd.DataFrame(columns=col_name)], axis=1)  \n",
    "    \n",
    "    # 填充数据\n",
    "    for i, j in zip(col_name, temp_dict):\n",
    "        features[i] = features[col].apply(lambda x: temp_dict[j][x])\n",
    "        sub_features[i] = sub_features[col].apply(lambda x: temp_dict[j][x])\n",
    "\n",
    "features.drop('price', axis=1, inplace=True)"
   ]
  },
  {
   "cell_type": "code",
   "execution_count": 12,
   "metadata": {},
   "outputs": [],
   "source": [
    "# 独热编码\n",
    "for col in ['brand', 'bodyType', 'fuelType', 'gearbox', 'notRepairedDamage',]:\n",
    "    # 训练独热编码\n",
    "    onehot = OneHotEncoder()\n",
    "    features_array = onehot.fit_transform(features[col].values.reshape(-1, 1))\n",
    "    sub_features_array = onehot.transform(sub_features[col].values.reshape(-1, 1))\n",
    "    \n",
    "    # 列名设置\n",
    "    col_name = ['{}_{}'.format(col,x) for x in range(features[col].nunique())]\n",
    "    \n",
    "    # 训练集填充\n",
    "    df_temp = pd.DataFrame(features_array.toarray(), columns=col_name)\n",
    "    features = pd.concat([features, df_temp], axis=1)\n",
    "    features.drop(col, axis=1)\n",
    "    \n",
    "    # 测试集填充\n",
    "    df_temp = pd.DataFrame(sub_features_array.toarray(), columns=col_name)\n",
    "    sub_features = pd.concat([sub_features, df_temp], axis=1)\n",
    "    sub_features.drop(col, axis=1)\n",
    "    break"
   ]
  },
  {
   "cell_type": "markdown",
   "metadata": {},
   "source": [
    "## 4. 数据拆分"
   ]
  },
  {
   "cell_type": "code",
   "execution_count": 13,
   "metadata": {},
   "outputs": [
    {
     "name": "stdout",
     "output_type": "stream",
     "text": [
      "(120000, 69)\n",
      "(120000, 1)\n",
      "(30000, 69)\n",
      "(30000, 1)\n"
     ]
    }
   ],
   "source": [
    "ss = StandardScaler()\n",
    "x = ss.fit_transform(features)\n",
    "y = np.log(labels)\n",
    "sub_train = ss.transform(sub_features)\n",
    "\n",
    "x_train, x_test, y_train, y_test = train_test_split(x, y, test_size=0.20, random_state=1234)\n",
    "print(x_train.shape)\n",
    "print(y_train.shape)\n",
    "print(x_test.shape)\n",
    "print(y_test.shape)"
   ]
  },
  {
   "cell_type": "markdown",
   "metadata": {},
   "source": [
    "## 5. 模型训练\n",
    "### 5.1 LR"
   ]
  },
  {
   "cell_type": "code",
   "execution_count": 14,
   "metadata": {},
   "outputs": [
    {
     "name": "stdout",
     "output_type": "stream",
     "text": [
      "LR MAE:942.2024881889614\n"
     ]
    }
   ],
   "source": [
    "lr = LinearRegression()\n",
    "lr.fit(x_train, y_train)\n",
    "predict = lr.predict(x_test)\n",
    "result_lr = np.exp(predict)\n",
    "y_true = np.exp(y_test)\n",
    "print('LR MAE:{}'.format(mean_absolute_error(result_lr, y_true)))"
   ]
  },
  {
   "cell_type": "markdown",
   "metadata": {},
   "source": [
    "### 5.2 tree"
   ]
  },
  {
   "cell_type": "code",
   "execution_count": 15,
   "metadata": {},
   "outputs": [
    {
     "name": "stdout",
     "output_type": "stream",
     "text": [
      "TREE MAE:871.964958203364\n"
     ]
    }
   ],
   "source": [
    "tree = DecisionTreeRegressor()\n",
    "tree.fit(x_train, y_train)\n",
    "predict = tree.predict(x_test)\n",
    "result_tree = np.exp(predict)\n",
    "y_true = np.exp(y_test)\n",
    "print('TREE MAE:{}'.format(mean_absolute_error(result_tree, y_true)))"
   ]
  },
  {
   "cell_type": "markdown",
   "metadata": {},
   "source": [
    "### 5.3 GBDT"
   ]
  },
  {
   "cell_type": "code",
   "execution_count": 16,
   "metadata": {},
   "outputs": [
    {
     "name": "stdout",
     "output_type": "stream",
     "text": [
      "GBDT MAE:871.0509874145639\n"
     ]
    }
   ],
   "source": [
    "gbdt = GradientBoostingRegressor()\n",
    "gbdt.fit(x_train, y_train)\n",
    "predict = gbdt.predict(x_test)\n",
    "result_gbdt = np.exp(predict)\n",
    "y_true = np.exp(y_test)\n",
    "print('GBDT MAE:{}'.format(mean_absolute_error(result_gbdt, y_true)))"
   ]
  },
  {
   "cell_type": "markdown",
   "metadata": {},
   "source": [
    "### 5.4 GBDT+LR"
   ]
  },
  {
   "cell_type": "code",
   "execution_count": 17,
   "metadata": {},
   "outputs": [
    {
     "name": "stdout",
     "output_type": "stream",
     "text": [
      "GBDT MAE:700.2495691824465\n"
     ]
    }
   ],
   "source": [
    "X_train_, X_test_, y_train_, y_test_ = train_test_split(x, y, test_size=0.5, random_state=666)\n",
    "X_train_lr, X_train_tree, y_train_lr, y_train_tree = train_test_split(X_train_, y_train_, test_size=0.5, random_state=666)\n",
    "\n",
    "# 训练GBDT\n",
    "gbtd_lr = GradientBoostingRegressor(n_estimators=300)\n",
    "gbtd_lr.fit(X_train_tree, y_train_tree)\n",
    "temp = gbtd_lr.apply(X_train_tree)\n",
    "\n",
    "# 训练一个onehot\n",
    "onehot = OneHotEncoder()\n",
    "onehot.fit(temp)\n",
    "\n",
    "# 获得LR的features\n",
    "lr_features = onehot.transform(gbtd_lr.apply(X_train_lr))\n",
    "\n",
    "# 训练LR\n",
    "reg_lr = LinearRegression()\n",
    "reg_lr.fit(lr_features, y_train_lr)\n",
    "\n",
    "# 模型预测\n",
    "test_features = onehot.transform(gbtd_lr.apply(X_test_))\n",
    "predict = reg_lr.predict(test_features)\n",
    "result_gbdt_lr = np.exp(predict)\n",
    "y_true = np.exp(y_test_)\n",
    "print('GBDT MAE:{}'.format(mean_absolute_error(result_gbdt_lr, y_true)))"
   ]
  },
  {
   "cell_type": "markdown",
   "metadata": {},
   "source": [
    "## 6. 结果比较"
   ]
  },
  {
   "cell_type": "code",
   "execution_count": 18,
   "metadata": {},
   "outputs": [
    {
     "data": {
      "text/html": [
       "<div>\n",
       "<style scoped>\n",
       "    .dataframe tbody tr th:only-of-type {\n",
       "        vertical-align: middle;\n",
       "    }\n",
       "\n",
       "    .dataframe tbody tr th {\n",
       "        vertical-align: top;\n",
       "    }\n",
       "\n",
       "    .dataframe thead th {\n",
       "        text-align: right;\n",
       "    }\n",
       "</style>\n",
       "<table border=\"1\" class=\"dataframe\">\n",
       "  <thead>\n",
       "    <tr style=\"text-align: right;\">\n",
       "      <th></th>\n",
       "      <th>SaleID</th>\n",
       "      <th>price</th>\n",
       "    </tr>\n",
       "  </thead>\n",
       "  <tbody>\n",
       "    <tr>\n",
       "      <th>0</th>\n",
       "      <td>150000</td>\n",
       "      <td>NaN</td>\n",
       "    </tr>\n",
       "    <tr>\n",
       "      <th>1</th>\n",
       "      <td>150001</td>\n",
       "      <td>NaN</td>\n",
       "    </tr>\n",
       "    <tr>\n",
       "      <th>2</th>\n",
       "      <td>150002</td>\n",
       "      <td>NaN</td>\n",
       "    </tr>\n",
       "    <tr>\n",
       "      <th>3</th>\n",
       "      <td>150003</td>\n",
       "      <td>NaN</td>\n",
       "    </tr>\n",
       "    <tr>\n",
       "      <th>4</th>\n",
       "      <td>150004</td>\n",
       "      <td>NaN</td>\n",
       "    </tr>\n",
       "  </tbody>\n",
       "</table>\n",
       "</div>"
      ],
      "text/plain": [
       "   SaleID  price\n",
       "0  150000    NaN\n",
       "1  150001    NaN\n",
       "2  150002    NaN\n",
       "3  150003    NaN\n",
       "4  150004    NaN"
      ]
     },
     "execution_count": 18,
     "metadata": {},
     "output_type": "execute_result"
    }
   ],
   "source": [
    "sub_csv = pd.read_csv('./submission.csv')\n",
    "sub_csv.head()"
   ]
  },
  {
   "cell_type": "code",
   "execution_count": 19,
   "metadata": {},
   "outputs": [
    {
     "data": {
      "text/html": [
       "<div>\n",
       "<style scoped>\n",
       "    .dataframe tbody tr th:only-of-type {\n",
       "        vertical-align: middle;\n",
       "    }\n",
       "\n",
       "    .dataframe tbody tr th {\n",
       "        vertical-align: top;\n",
       "    }\n",
       "\n",
       "    .dataframe thead th {\n",
       "        text-align: right;\n",
       "    }\n",
       "</style>\n",
       "<table border=\"1\" class=\"dataframe\">\n",
       "  <thead>\n",
       "    <tr style=\"text-align: right;\">\n",
       "      <th></th>\n",
       "      <th>SaleID</th>\n",
       "      <th>price</th>\n",
       "      <th>result_lr</th>\n",
       "      <th>result_tree</th>\n",
       "      <th>result_GBDT</th>\n",
       "      <th>result_GBDT_lr</th>\n",
       "    </tr>\n",
       "  </thead>\n",
       "  <tbody>\n",
       "    <tr>\n",
       "      <th>0</th>\n",
       "      <td>150000</td>\n",
       "      <td>NaN</td>\n",
       "      <td>39151.056107</td>\n",
       "      <td>25500.0</td>\n",
       "      <td>30332.869136</td>\n",
       "      <td>31763.451079</td>\n",
       "    </tr>\n",
       "    <tr>\n",
       "      <th>1</th>\n",
       "      <td>150001</td>\n",
       "      <td>NaN</td>\n",
       "      <td>291.676860</td>\n",
       "      <td>350.0</td>\n",
       "      <td>309.252074</td>\n",
       "      <td>361.154800</td>\n",
       "    </tr>\n",
       "    <tr>\n",
       "      <th>2</th>\n",
       "      <td>150002</td>\n",
       "      <td>NaN</td>\n",
       "      <td>5918.867746</td>\n",
       "      <td>5700.0</td>\n",
       "      <td>6852.431879</td>\n",
       "      <td>6008.417314</td>\n",
       "    </tr>\n",
       "    <tr>\n",
       "      <th>3</th>\n",
       "      <td>150003</td>\n",
       "      <td>NaN</td>\n",
       "      <td>12272.146510</td>\n",
       "      <td>10500.0</td>\n",
       "      <td>12182.430788</td>\n",
       "      <td>11690.517126</td>\n",
       "    </tr>\n",
       "    <tr>\n",
       "      <th>4</th>\n",
       "      <td>150004</td>\n",
       "      <td>NaN</td>\n",
       "      <td>619.499519</td>\n",
       "      <td>650.0</td>\n",
       "      <td>651.270472</td>\n",
       "      <td>604.448705</td>\n",
       "    </tr>\n",
       "  </tbody>\n",
       "</table>\n",
       "</div>"
      ],
      "text/plain": [
       "   SaleID  price     result_lr  result_tree   result_GBDT  result_GBDT_lr\n",
       "0  150000    NaN  39151.056107      25500.0  30332.869136    31763.451079\n",
       "1  150001    NaN    291.676860        350.0    309.252074      361.154800\n",
       "2  150002    NaN   5918.867746       5700.0   6852.431879     6008.417314\n",
       "3  150003    NaN  12272.146510      10500.0  12182.430788    11690.517126\n",
       "4  150004    NaN    619.499519        650.0    651.270472      604.448705"
      ]
     },
     "execution_count": 19,
     "metadata": {},
     "output_type": "execute_result"
    }
   ],
   "source": [
    "result_lr = np.exp(lr.predict(sub_train)) # lr \n",
    "result_tree = np.exp(tree.predict(sub_train)) # tree\n",
    "result_GBDT = np.exp(gbdt.predict(sub_train)) # GBDT\n",
    "sub_lr_features = onehot.transform(gbtd_lr.apply(sub_train))\n",
    "result_GBDT_lr = np.exp(reg_lr.predict(sub_lr_features)) # GBDT+lr\n",
    "\n",
    "sub_csv['result_lr'] = result_lr\n",
    "sub_csv['result_tree'] = result_tree\n",
    "sub_csv['result_GBDT'] = result_GBDT\n",
    "sub_csv['result_GBDT_lr'] = result_GBDT_lr\n",
    "\n",
    "sub_csv.to_csv('./model_predict.csv', index=False)\n",
    "pd.read_csv('./model_predict.csv').head()"
   ]
  }
 ],
 "metadata": {
  "kernelspec": {
   "display_name": "Python 3",
   "language": "python",
   "name": "python3"
  },
  "language_info": {
   "codemirror_mode": {
    "name": "ipython",
    "version": 3
   },
   "file_extension": ".py",
   "mimetype": "text/x-python",
   "name": "python",
   "nbconvert_exporter": "python",
   "pygments_lexer": "ipython3",
   "version": "3.7.4"
  },
  "toc": {
   "base_numbering": 1,
   "nav_menu": {},
   "number_sections": false,
   "sideBar": true,
   "skip_h1_title": true,
   "title_cell": "Table of Contents",
   "title_sidebar": "Contents",
   "toc_cell": true,
   "toc_position": {},
   "toc_section_display": true,
   "toc_window_display": true
  }
 },
 "nbformat": 4,
 "nbformat_minor": 2
}
