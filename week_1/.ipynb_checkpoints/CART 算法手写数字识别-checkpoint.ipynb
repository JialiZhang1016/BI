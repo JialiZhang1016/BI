{
 "cells": [
  {
   "cell_type": "markdown",
   "metadata": {
    "toc": true
   },
   "source": [
    "<h1>Table of Contents<span class=\"tocSkip\"></span></h1>\n",
    "<div class=\"toc\"><ul class=\"toc-item\"><li><span><a href=\"#1.-数据集介绍\" data-toc-modified-id=\"1.-数据集介绍-1\">1. 数据集介绍</a></span></li><li><span><a href=\"#2.-使用循环函数找出最优分类比例\" data-toc-modified-id=\"2.-使用循环函数找出最优分类比例-2\">2. 使用循环函数找出最优分类比例</a></span></li><li><span><a href=\"#3.-作图查看不同Test-size下模型的准确率\" data-toc-modified-id=\"3.-作图查看不同Test-size下模型的准确率-3\">3. 作图查看不同Test size下模型的准确率</a></span></li></ul></div>"
   ]
  },
  {
   "cell_type": "code",
   "execution_count": 1,
   "metadata": {},
   "outputs": [],
   "source": [
    "from sklearn.model_selection import train_test_split\n",
    "from sklearn import preprocessing\n",
    "from sklearn.metrics import accuracy_score\n",
    "from sklearn.datasets import load_digits\n",
    "from sklearn.svm import SVC\n",
    "import matplotlib as plt\n",
    "from sklearn.metrics import confusion_matrix\n",
    "import seaborn as sns # 数据可视化的包"
   ]
  },
  {
   "cell_type": "code",
   "execution_count": 2,
   "metadata": {},
   "outputs": [
    {
     "data": {
      "text/plain": [
       "(1797, 64)"
      ]
     },
     "execution_count": 2,
     "metadata": {},
     "output_type": "execute_result"
    }
   ],
   "source": [
    "# 加载数据\n",
    "digits = load_digits()\n",
    "data = digits.data\n",
    "# 查看数据集大小\n",
    "data.shape"
   ]
  },
  {
   "cell_type": "markdown",
   "metadata": {},
   "source": [
    "# 1. 数据集介绍\n",
    "**1797个样本，每个样本包括8*8像素的图像和一个[0, 9]整数的标签。<br/>\n",
    "array矩阵类型数据，保存8*8的图像，里面的元素是float64类型，共有1797张图片\n",
    "用于显示图片。** <br/>\n"
   ]
  },
  {
   "cell_type": "code",
   "execution_count": 3,
   "metadata": {},
   "outputs": [
    {
     "name": "stdout",
     "output_type": "stream",
     "text": [
      "[[ 0.  0.  5. 13.  9.  1.  0.  0.]\n",
      " [ 0.  0. 13. 15. 10. 15.  5.  0.]\n",
      " [ 0.  3. 15.  2.  0. 11.  8.  0.]\n",
      " [ 0.  4. 12.  0.  0.  8.  8.  0.]\n",
      " [ 0.  5.  8.  0.  0.  9.  8.  0.]\n",
      " [ 0.  4. 11.  0.  1. 12.  7.  0.]\n",
      " [ 0.  2. 14.  5. 10. 12.  0.  0.]\n",
      " [ 0.  0.  6. 13. 10.  0.  0.  0.]]\n"
     ]
    }
   ],
   "source": [
    "# 获取第一张图片的像素数\n",
    "print(digits.images[0])"
   ]
  },
  {
   "cell_type": "code",
   "execution_count": 4,
   "metadata": {},
   "outputs": [],
   "source": [
    "# 将20%的数据作为测试集，其余作为训练集\n",
    "train_x, test_x, train_y, test_y = train_test_split(data, digits.target, test_size=0.20, random_state=666)"
   ]
  },
  {
   "cell_type": "code",
   "execution_count": 5,
   "metadata": {},
   "outputs": [],
   "source": [
    "# 采用Z-Score规范化\n",
    "ss = preprocessing.StandardScaler()\n",
    "train_ss_x = ss.fit_transform(train_x)\n",
    "test_ss_x = ss.transform(test_x)"
   ]
  },
  {
   "cell_type": "markdown",
   "metadata": {},
   "source": [
    "**CART 算法简单介绍 <br/>\n",
    "Classification And Regression Tree，即分类回归树算法，简称CART算法，它是决策树的一种实现，通常决策树主要有三种实现，分别是ID3算法，CART算法和C4.5算法。<br/>\n",
    "CART 算法采用 Gini系数作为标准进行特征分割。<br/>\n",
    "决策树的算法原理大家不理解属于正常，老师还没有讲到。<br/>**\n",
    "有兴趣了解的同学可以看一下链接：<br/>\n",
    "https://zhuanlan.zhihu.com/p/30059442  <br/>\n",
    "https://zhuanlan.zhihu.com/p/104462031 \n"
   ]
  },
  {
   "cell_type": "code",
   "execution_count": 6,
   "metadata": {},
   "outputs": [
    {
     "data": {
      "text/plain": [
       "DecisionTreeClassifier(class_weight=None, criterion='gini', max_depth=None,\n",
       "                       max_features=None, max_leaf_nodes=None,\n",
       "                       min_impurity_decrease=0.0, min_impurity_split=None,\n",
       "                       min_samples_leaf=1, min_samples_split=2,\n",
       "                       min_weight_fraction_leaf=0.0, presort=False,\n",
       "                       random_state=666, splitter='random')"
      ]
     },
     "execution_count": 6,
     "metadata": {},
     "output_type": "execute_result"
    }
   ],
   "source": [
    "#训练一个DecisionTree分类器\n",
    "from sklearn.tree import DecisionTreeClassifier\n",
    "clf = DecisionTreeClassifier(random_state=666,splitter='random',criterion='gini') # sklearn默认使用基尼Gini系数\n",
    "clf.fit(train_ss_x,train_y)"
   ]
  },
  {
   "cell_type": "markdown",
   "metadata": {},
   "source": [
    "**DecisionTreeClassifier的参数**\n",
    "- random_stateint, RandomState instance, default=None\n",
    "- criterion{“gini”, “entropy”}, default=”gini”\n",
    "- splitter{“best”, “random”}, default=”best”"
   ]
  },
  {
   "cell_type": "code",
   "execution_count": 7,
   "metadata": {},
   "outputs": [
    {
     "name": "stdout",
     "output_type": "stream",
     "text": [
      "CART算法准确率: 0.8250\n"
     ]
    }
   ],
   "source": [
    "predict_y = clf.predict(test_ss_x)\n",
    "print('CART算法准确率: %0.4lf' % accuracy_score(test_y, predict_y))"
   ]
  },
  {
   "cell_type": "code",
   "execution_count": 8,
   "metadata": {},
   "outputs": [
    {
     "data": {
      "text/plain": [
       "<matplotlib.axes._subplots.AxesSubplot at 0x214f4c06388>"
      ]
     },
     "execution_count": 8,
     "metadata": {},
     "output_type": "execute_result"
    },
    {
     "data": {
      "image/png": "[encoded data removed]",
      "text/plain": [
       "<Figure size 432x288 with 1 Axes>"
      ]
     },
     "metadata": {
      "needs_background": "light"
     },
     "output_type": "display_data"
    }
   ],
   "source": [
    "#查看模型的混淆矩阵，可以看出模型哪些地方做的不够好\n",
    "cart_cm = confusion_matrix(test_y, predict_y)\n",
    "sns.heatmap(cart_cm, square=True, annot=True, cbar=False)"
   ]
  },
  {
   "cell_type": "markdown",
   "metadata": {},
   "source": [
    "**上图中纵轴为actual value,横轴为predictive value  \n",
    "混淆矩阵的结果显示，CART Classifier 容易将8判断为3，在这次模型中出现了6次这样的错误。**"
   ]
  },
  {
   "cell_type": "markdown",
   "metadata": {},
   "source": [
    "# 2. 使用循环函数找出最优分类比例"
   ]
  },
  {
   "cell_type": "code",
   "execution_count": 9,
   "metadata": {},
   "outputs": [
    {
     "name": "stdout",
     "output_type": "stream",
     "text": [
      "test_size:0.05, CART算法准确率: 0.8222\n",
      "test_size:0.06, CART算法准确率: 0.8704\n",
      "test_size:0.07, CART算法准确率: 0.8492\n",
      "test_size:0.08, CART算法准确率: 0.8681\n",
      "test_size:0.09, CART算法准确率: 0.8827\n",
      "test_size:0.10, CART算法准确率: 0.8500\n",
      "test_size:0.11, CART算法准确率: 0.8838\n",
      "test_size:0.12, CART算法准确率: 0.8704\n",
      "test_size:0.13, CART算法准确率: 0.8590\n",
      "test_size:0.14, CART算法准确率: 0.8532\n",
      "test_size:0.15, CART算法准确率: 0.8370\n",
      "test_size:0.16, CART算法准确率: 0.8542\n",
      "test_size:0.17, CART算法准确率: 0.8562\n",
      "test_size:0.18, CART算法准确率: 0.8395\n",
      "test_size:0.19, CART算法准确率: 0.8187\n",
      "test_size:0.20, CART算法准确率: 0.8250\n",
      "test_size:0.21, CART算法准确率: 0.8466\n",
      "test_size:0.22, CART算法准确率: 0.8561\n",
      "test_size:0.23, CART算法准确率: 0.8357\n",
      "test_size:0.24, CART算法准确率: 0.8542\n",
      "test_size:0.25, CART算法准确率: 0.8511\n",
      "test_size:0.26, CART算法准确率: 0.8333\n",
      "test_size:0.27, CART算法准确率: 0.8621\n",
      "test_size:0.28, CART算法准确率: 0.8433\n",
      "test_size:0.29, CART算法准确率: 0.8563\n",
      "test_size:0.30, CART算法准确率: 0.8704\n",
      "test_size:0.31, CART算法准确率: 0.8190\n",
      "test_size:0.32, CART算法准确率: 0.8490\n",
      "test_size:0.33, CART算法准确率: 0.8333\n",
      "test_size:0.34, CART算法准确率: 0.8314\n",
      "test_size:0.35, CART算法准确率: 0.8490\n",
      "test_size:0.36, CART算法准确率: 0.8408\n",
      "test_size:0.37, CART算法准确率: 0.8271\n",
      "test_size:0.38, CART算法准确率: 0.8287\n",
      "test_size:0.39, CART算法准确率: 0.8402\n",
      "test_size:0.40, CART算法准确率: 0.8136\n"
     ]
    }
   ],
   "source": [
    "from sklearn.model_selection import train_test_split\n",
    "from sklearn import preprocessing\n",
    "from sklearn.metrics import accuracy_score\n",
    "from sklearn.datasets import load_digits\n",
    "from sklearn.svm import SVC\n",
    "import matplotlib as plt\n",
    "from sklearn.metrics import confusion_matrix\n",
    "import seaborn as sns # 数据可视化的包\n",
    "import numpy as np\n",
    "from sklearn.tree import DecisionTreeClassifier\n",
    "import matplotlib.pyplot as plt\n",
    "from matplotlib.pyplot import MultipleLocator\n",
    "\n",
    "# 加载数据\n",
    "digits = load_digits()\n",
    "data = digits.data\n",
    "\n",
    "split_rate = []\n",
    "accuracy = []\n",
    "\n",
    "for i in np.arange(0.05, 0.41, 0.01):\n",
    "    train_x, test_x, train_y, test_y = train_test_split(data, digits.target, test_size=i, random_state=666)\n",
    "    ss = preprocessing.StandardScaler()\n",
    "    train_ss_x = ss.fit_transform(train_x)\n",
    "    test_ss_x = ss.transform(test_x)\n",
    "\n",
    "    clf = DecisionTreeClassifier(random_state=666,splitter='random',criterion='gini') # sklearn默认使用基尼Gini系数\n",
    "    clf.fit(train_ss_x,train_y)\n",
    "\n",
    "    predict_y = clf.predict(test_ss_x)\n",
    "    print('test_size:%0.2f,' % i, 'CART算法准确率: %0.4lf' % accuracy_score(test_y, predict_y))\n",
    "    \n",
    "    split_rate.append(i)\n",
    "    accuracy.append(accuracy_score(test_y, predict_y))\n",
    "    \n"
   ]
  },
  {
   "cell_type": "markdown",
   "metadata": {},
   "source": [
    "# 3. 作图查看不同Test size下模型的准确率"
   ]
  },
  {
   "cell_type": "code",
   "execution_count": 10,
   "metadata": {},
   "outputs": [
    {
     "data": {
      "image/png": "[encoded data removed]",
      "text/plain": [
       "<Figure size 1152x288 with 1 Axes>"
      ]
     },
     "metadata": {
      "needs_background": "light"
     },
     "output_type": "display_data"
    }
   ],
   "source": [
    "plt.figure(figsize=(16,4)) \n",
    "plt.plot(split_rate,accuracy)\n",
    "plt.xlabel('Test_size')\n",
    "plt.ylabel('Accuracy')\n",
    "plt.title('CART on mnist') \n",
    "plt.xlim(0.05,0.4)\n",
    "x_major_locator=MultipleLocator(0.01)\n",
    "ax=plt.gca()\n",
    "ax.xaxis.set_major_locator(x_major_locator)"
   ]
  },
  {
   "cell_type": "markdown",
   "metadata": {},
   "source": [
    "**结果显示，test_size在0.09或0.11时，Accuracy相对较高。**"
   ]
  },
  {
   "cell_type": "code",
   "execution_count": null,
   "metadata": {},
   "outputs": [],
   "source": []
  }
 ],
 "metadata": {
  "kernelspec": {
   "display_name": "Python 3",
   "language": "python",
   "name": "python3"
  },
  "language_info": {
   "codemirror_mode": {
    "name": "ipython",
    "version": 3
   },
   "file_extension": ".py",
   "mimetype": "text/x-python",
   "name": "python",
   "nbconvert_exporter": "python",
   "pygments_lexer": "ipython3",
   "version": "3.7.4"
  },
  "toc": {
   "base_numbering": 1,
   "nav_menu": {},
   "number_sections": false,
   "sideBar": true,
   "skip_h1_title": false,
   "title_cell": "Table of Contents",
   "title_sidebar": "Contents",
   "toc_cell": true,
   "toc_position": {},
   "toc_section_display": true,
   "toc_window_display": true
  }
 },
 "nbformat": 4,
 "nbformat_minor": 2
}
