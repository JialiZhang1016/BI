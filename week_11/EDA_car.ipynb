{
 "cells": [
  {
   "cell_type": "markdown",
   "metadata": {
    "toc": true
   },
   "source": [
    "<h1>Table of Contents<span class=\"tocSkip\"></span></h1>\n",
    "<div class=\"toc\"><ul class=\"toc-item\"><li><span><a href=\"#1.-loading-data\" data-toc-modified-id=\"1.-loading-data-1\">1. loading data</a></span></li><li><span><a href=\"#2.-basic-information\" data-toc-modified-id=\"2.-basic-information-2\">2. basic information</a></span><ul class=\"toc-item\"><li><span><a href=\"#2.1-data-shape\" data-toc-modified-id=\"2.1-data-shape-2.1\">2.1 data shape</a></span></li><li><span><a href=\"#2.2-first-5-rows\" data-toc-modified-id=\"2.2-first-5-rows-2.2\">2.2 first 5 rows</a></span></li><li><span><a href=\"#2.3-data-information\" data-toc-modified-id=\"2.3-data-information-2.3\">2.3 data information</a></span></li><li><span><a href=\"#2.4-missing-values\" data-toc-modified-id=\"2.4-missing-values-2.4\">2.4 missing values</a></span></li><li><span><a href=\"#2.5-define-features-types\" data-toc-modified-id=\"2.5-define-features-types-2.5\">2.5 define features types</a></span></li></ul></li><li><span><a href=\"#3.-explore-numeric-columns\" data-toc-modified-id=\"3.-explore-numeric-columns-3\">3. explore numeric columns</a></span><ul class=\"toc-item\"><li><span><a href=\"#3.1-data-distribution-table\" data-toc-modified-id=\"3.1-data-distribution-table-3.1\">3.1 data distribution table</a></span></li><li><span><a href=\"#3.2-histogram\" data-toc-modified-id=\"3.2-histogram-3.2\">3.2 histogram</a></span></li><li><span><a href=\"#3.3-correlations\" data-toc-modified-id=\"3.3-correlations-3.3\">3.3 correlations</a></span></li></ul></li><li><span><a href=\"#4.-explore-categorical-columns\" data-toc-modified-id=\"4.-explore-categorical-columns-4\">4. explore categorical columns</a></span></li></ul></div>"
   ]
  },
  {
   "cell_type": "code",
   "execution_count": 1,
   "metadata": {},
   "outputs": [
    {
     "name": "stderr",
     "output_type": "stream",
     "text": [
      "D:\\Anaconda3\\lib\\site-packages\\statsmodels\\tools\\_testing.py:19: FutureWarning: pandas.util.testing is deprecated. Use the functions in the public API at pandas.testing instead.\n",
      "  import pandas.util.testing as tm\n"
     ]
    }
   ],
   "source": [
    "import pandas as pd \n",
    "import missingno as msno\n",
    "import matplotlib.pyplot as plt"
   ]
  },
  {
   "cell_type": "markdown",
   "metadata": {},
   "source": [
    "## 1. loading data"
   ]
  },
  {
   "cell_type": "code",
   "execution_count": 2,
   "metadata": {},
   "outputs": [],
   "source": [
    "train_df = pd.read_csv('./used_car_train_20200313.csv', sep=' ') \n",
    "test_df = pd.read_csv('./used_car_testA_20200313.csv', sep=' ')"
   ]
  },
  {
   "cell_type": "markdown",
   "metadata": {},
   "source": [
    "## 2. basic information"
   ]
  },
  {
   "cell_type": "markdown",
   "metadata": {},
   "source": [
    "### 2.1 data shape"
   ]
  },
  {
   "cell_type": "code",
   "execution_count": 3,
   "metadata": {},
   "outputs": [
    {
     "name": "stdout",
     "output_type": "stream",
     "text": [
      "(150000, 31)\n"
     ]
    }
   ],
   "source": [
    "print(train_df.shape)"
   ]
  },
  {
   "cell_type": "markdown",
   "metadata": {},
   "source": [
    "### 2.2 first 5 rows"
   ]
  },
  {
   "cell_type": "code",
   "execution_count": 4,
   "metadata": {},
   "outputs": [
    {
     "name": "stdout",
     "output_type": "stream",
     "text": [
      "   SaleID    name   regDate  model  brand  bodyType  fuelType  gearbox  power  \\\n",
      "0       0     736  20040402   30.0      6       1.0       0.0      0.0     60   \n",
      "1       1    2262  20030301   40.0      1       2.0       0.0      0.0      0   \n",
      "2       2   14874  20040403  115.0     15       1.0       0.0      0.0    163   \n",
      "3       3   71865  19960908  109.0     10       0.0       0.0      1.0    193   \n",
      "4       4  111080  20120103  110.0      5       1.0       0.0      0.0     68   \n",
      "\n",
      "   kilometer  ...       v_5       v_6       v_7       v_8       v_9      v_10  \\\n",
      "0       12.5  ...  0.235676  0.101988  0.129549  0.022816  0.097462 -2.881803   \n",
      "1       15.0  ...  0.264777  0.121004  0.135731  0.026597  0.020582 -4.900482   \n",
      "2       12.5  ...  0.251410  0.114912  0.165147  0.062173  0.027075 -4.846749   \n",
      "3       15.0  ...  0.274293  0.110300  0.121964  0.033395  0.000000 -4.509599   \n",
      "4        5.0  ...  0.228036  0.073205  0.091880  0.078819  0.121534 -1.896240   \n",
      "\n",
      "       v_11      v_12      v_13      v_14  \n",
      "0  2.804097 -2.420821  0.795292  0.914762  \n",
      "1  2.096338 -1.030483 -1.722674  0.245522  \n",
      "2  1.803559  1.565330 -0.832687 -0.229963  \n",
      "3  1.285940 -0.501868 -2.438353 -0.478699  \n",
      "4  0.910783  0.931110  2.834518  1.923482  \n",
      "\n",
      "[5 rows x 31 columns]\n"
     ]
    }
   ],
   "source": [
    "print(train_df.head())"
   ]
  },
  {
   "cell_type": "markdown",
   "metadata": {},
   "source": [
    "### 2.3 data information"
   ]
  },
  {
   "cell_type": "code",
   "execution_count": 5,
   "metadata": {
    "scrolled": false
   },
   "outputs": [
    {
     "name": "stdout",
     "output_type": "stream",
     "text": [
      "<class 'pandas.core.frame.DataFrame'>\n",
      "RangeIndex: 150000 entries, 0 to 149999\n",
      "Data columns (total 31 columns):\n",
      " #   Column             Non-Null Count   Dtype  \n",
      "---  ------             --------------   -----  \n",
      " 0   SaleID             150000 non-null  int64  \n",
      " 1   name               150000 non-null  int64  \n",
      " 2   regDate            150000 non-null  int64  \n",
      " 3   model              149999 non-null  float64\n",
      " 4   brand              150000 non-null  int64  \n",
      " 5   bodyType           145494 non-null  float64\n",
      " 6   fuelType           141320 non-null  float64\n",
      " 7   gearbox            144019 non-null  float64\n",
      " 8   power              150000 non-null  int64  \n",
      " 9   kilometer          150000 non-null  float64\n",
      " 10  notRepairedDamage  150000 non-null  object \n",
      " 11  regionCode         150000 non-null  int64  \n",
      " 12  seller             150000 non-null  int64  \n",
      " 13  offerType          150000 non-null  int64  \n",
      " 14  creatDate          150000 non-null  int64  \n",
      " 15  price              150000 non-null  int64  \n",
      " 16  v_0                150000 non-null  float64\n",
      " 17  v_1                150000 non-null  float64\n",
      " 18  v_2                150000 non-null  float64\n",
      " 19  v_3                150000 non-null  float64\n",
      " 20  v_4                150000 non-null  float64\n",
      " 21  v_5                150000 non-null  float64\n",
      " 22  v_6                150000 non-null  float64\n",
      " 23  v_7                150000 non-null  float64\n",
      " 24  v_8                150000 non-null  float64\n",
      " 25  v_9                150000 non-null  float64\n",
      " 26  v_10               150000 non-null  float64\n",
      " 27  v_11               150000 non-null  float64\n",
      " 28  v_12               150000 non-null  float64\n",
      " 29  v_13               150000 non-null  float64\n",
      " 30  v_14               150000 non-null  float64\n",
      "dtypes: float64(20), int64(10), object(1)\n",
      "memory usage: 35.5+ MB\n",
      "None\n"
     ]
    }
   ],
   "source": [
    "print(train_df.info())"
   ]
  },
  {
   "cell_type": "markdown",
   "metadata": {},
   "source": [
    "### 2.4 missing values"
   ]
  },
  {
   "cell_type": "code",
   "execution_count": 6,
   "metadata": {},
   "outputs": [
    {
     "data": {
      "text/plain": [
       "<AxesSubplot:>"
      ]
     },
     "execution_count": 6,
     "metadata": {},
     "output_type": "execute_result"
    },
    {
     "data": {
      "text/plain": [
       "<Figure size 432x432 with 0 Axes>"
      ]
     },
     "metadata": {},
     "output_type": "display_data"
    },
    {
     "data": {
      "image/png": "[encoded data removed]",
      "text/plain": [
       "<Figure size 1800x720 with 2 Axes>"
      ]
     },
     "metadata": {
      "needs_background": "light"
     },
     "output_type": "display_data"
    }
   ],
   "source": [
    "plt.figure(figsize=(6, 6))\n",
    "sample = train_df.sample(1000)\n",
    "msno.matrix(train_df)"
   ]
  },
  {
   "cell_type": "markdown",
   "metadata": {},
   "source": [
    "### 2.5 define features types"
   ]
  },
  {
   "cell_type": "code",
   "execution_count": 7,
   "metadata": {},
   "outputs": [],
   "source": [
    "date_columns = ['creatDate', 'regDate']\n",
    "useless_columns = ['SaleID', 'name', 'model', 'regionCode',]\n",
    "label_columns = ['price']\n",
    "\n",
    "categorical_columns = ['brand', 'bodyType', 'fuelType', 'gearbox', 'notRepairedDamage', 'seller', 'offerType']\n",
    "numeric_columns = ['power', 'kilometer', 'v_0', 'v_1', 'v_2', 'v_3', 'v_4', 'v_5', 'v_6', 'v_7', 'v_8', 'v_9', \n",
    "                   'v_10', 'v_11', 'v_12','v_13', 'v_14']"
   ]
  },
  {
   "cell_type": "markdown",
   "metadata": {},
   "source": [
    "## 3. explore numeric columns"
   ]
  },
  {
   "cell_type": "markdown",
   "metadata": {},
   "source": [
    "### 3.1 data distribution table"
   ]
  },
  {
   "cell_type": "code",
   "execution_count": 8,
   "metadata": {},
   "outputs": [
    {
     "data": {
      "text/html": [
       "<div>\n",
       "<style scoped>\n",
       "    .dataframe tbody tr th:only-of-type {\n",
       "        vertical-align: middle;\n",
       "    }\n",
       "\n",
       "    .dataframe tbody tr th {\n",
       "        vertical-align: top;\n",
       "    }\n",
       "\n",
       "    .dataframe thead th {\n",
       "        text-align: right;\n",
       "    }\n",
       "</style>\n",
       "<table border=\"1\" class=\"dataframe\">\n",
       "  <thead>\n",
       "    <tr style=\"text-align: right;\">\n",
       "      <th></th>\n",
       "      <th>power</th>\n",
       "      <th>kilometer</th>\n",
       "      <th>v_0</th>\n",
       "      <th>v_1</th>\n",
       "      <th>v_2</th>\n",
       "      <th>v_3</th>\n",
       "      <th>v_4</th>\n",
       "      <th>v_5</th>\n",
       "      <th>v_6</th>\n",
       "      <th>v_7</th>\n",
       "      <th>v_8</th>\n",
       "      <th>v_9</th>\n",
       "      <th>v_10</th>\n",
       "      <th>v_11</th>\n",
       "      <th>v_12</th>\n",
       "      <th>v_13</th>\n",
       "      <th>v_14</th>\n",
       "    </tr>\n",
       "  </thead>\n",
       "  <tbody>\n",
       "    <tr>\n",
       "      <th>count</th>\n",
       "      <td>150000.000000</td>\n",
       "      <td>150000.000000</td>\n",
       "      <td>150000.000000</td>\n",
       "      <td>150000.000000</td>\n",
       "      <td>150000.000000</td>\n",
       "      <td>150000.000000</td>\n",
       "      <td>150000.000000</td>\n",
       "      <td>150000.000000</td>\n",
       "      <td>150000.000000</td>\n",
       "      <td>150000.000000</td>\n",
       "      <td>150000.000000</td>\n",
       "      <td>150000.000000</td>\n",
       "      <td>150000.000000</td>\n",
       "      <td>150000.000000</td>\n",
       "      <td>150000.000000</td>\n",
       "      <td>150000.000000</td>\n",
       "      <td>150000.000000</td>\n",
       "    </tr>\n",
       "    <tr>\n",
       "      <th>mean</th>\n",
       "      <td>119.316547</td>\n",
       "      <td>12.597160</td>\n",
       "      <td>44.406268</td>\n",
       "      <td>-0.044809</td>\n",
       "      <td>0.080765</td>\n",
       "      <td>0.078833</td>\n",
       "      <td>0.017875</td>\n",
       "      <td>0.248204</td>\n",
       "      <td>0.044923</td>\n",
       "      <td>0.124692</td>\n",
       "      <td>0.058144</td>\n",
       "      <td>0.061996</td>\n",
       "      <td>-0.001000</td>\n",
       "      <td>0.009035</td>\n",
       "      <td>0.004813</td>\n",
       "      <td>0.000313</td>\n",
       "      <td>-0.000688</td>\n",
       "    </tr>\n",
       "    <tr>\n",
       "      <th>std</th>\n",
       "      <td>177.168419</td>\n",
       "      <td>3.919576</td>\n",
       "      <td>2.457548</td>\n",
       "      <td>3.641893</td>\n",
       "      <td>2.929618</td>\n",
       "      <td>2.026514</td>\n",
       "      <td>1.193661</td>\n",
       "      <td>0.045804</td>\n",
       "      <td>0.051743</td>\n",
       "      <td>0.201410</td>\n",
       "      <td>0.029186</td>\n",
       "      <td>0.035692</td>\n",
       "      <td>3.772386</td>\n",
       "      <td>3.286071</td>\n",
       "      <td>2.517478</td>\n",
       "      <td>1.288988</td>\n",
       "      <td>1.038685</td>\n",
       "    </tr>\n",
       "    <tr>\n",
       "      <th>min</th>\n",
       "      <td>0.000000</td>\n",
       "      <td>0.500000</td>\n",
       "      <td>30.451976</td>\n",
       "      <td>-4.295589</td>\n",
       "      <td>-4.470671</td>\n",
       "      <td>-7.275037</td>\n",
       "      <td>-4.364565</td>\n",
       "      <td>0.000000</td>\n",
       "      <td>0.000000</td>\n",
       "      <td>0.000000</td>\n",
       "      <td>0.000000</td>\n",
       "      <td>0.000000</td>\n",
       "      <td>-9.168192</td>\n",
       "      <td>-5.558207</td>\n",
       "      <td>-9.639552</td>\n",
       "      <td>-4.153899</td>\n",
       "      <td>-6.546556</td>\n",
       "    </tr>\n",
       "    <tr>\n",
       "      <th>25%</th>\n",
       "      <td>75.000000</td>\n",
       "      <td>12.500000</td>\n",
       "      <td>43.135799</td>\n",
       "      <td>-3.192349</td>\n",
       "      <td>-0.970671</td>\n",
       "      <td>-1.462580</td>\n",
       "      <td>-0.921191</td>\n",
       "      <td>0.243615</td>\n",
       "      <td>0.000038</td>\n",
       "      <td>0.062474</td>\n",
       "      <td>0.035334</td>\n",
       "      <td>0.033930</td>\n",
       "      <td>-3.722303</td>\n",
       "      <td>-1.951543</td>\n",
       "      <td>-1.871846</td>\n",
       "      <td>-1.057789</td>\n",
       "      <td>-0.437034</td>\n",
       "    </tr>\n",
       "    <tr>\n",
       "      <th>50%</th>\n",
       "      <td>110.000000</td>\n",
       "      <td>15.000000</td>\n",
       "      <td>44.610266</td>\n",
       "      <td>-3.052671</td>\n",
       "      <td>-0.382947</td>\n",
       "      <td>0.099722</td>\n",
       "      <td>-0.075910</td>\n",
       "      <td>0.257798</td>\n",
       "      <td>0.000812</td>\n",
       "      <td>0.095866</td>\n",
       "      <td>0.057014</td>\n",
       "      <td>0.058484</td>\n",
       "      <td>1.624076</td>\n",
       "      <td>-0.358053</td>\n",
       "      <td>-0.130753</td>\n",
       "      <td>-0.036245</td>\n",
       "      <td>0.141246</td>\n",
       "    </tr>\n",
       "    <tr>\n",
       "      <th>75%</th>\n",
       "      <td>150.000000</td>\n",
       "      <td>15.000000</td>\n",
       "      <td>46.004721</td>\n",
       "      <td>4.000670</td>\n",
       "      <td>0.241335</td>\n",
       "      <td>1.565838</td>\n",
       "      <td>0.868758</td>\n",
       "      <td>0.265297</td>\n",
       "      <td>0.102009</td>\n",
       "      <td>0.125243</td>\n",
       "      <td>0.079382</td>\n",
       "      <td>0.087491</td>\n",
       "      <td>2.844357</td>\n",
       "      <td>1.255022</td>\n",
       "      <td>1.776933</td>\n",
       "      <td>0.942813</td>\n",
       "      <td>0.680378</td>\n",
       "    </tr>\n",
       "    <tr>\n",
       "      <th>max</th>\n",
       "      <td>19312.000000</td>\n",
       "      <td>15.000000</td>\n",
       "      <td>52.304178</td>\n",
       "      <td>7.320308</td>\n",
       "      <td>19.035496</td>\n",
       "      <td>9.854702</td>\n",
       "      <td>6.829352</td>\n",
       "      <td>0.291838</td>\n",
       "      <td>0.151420</td>\n",
       "      <td>1.404936</td>\n",
       "      <td>0.160791</td>\n",
       "      <td>0.222787</td>\n",
       "      <td>12.357011</td>\n",
       "      <td>18.819042</td>\n",
       "      <td>13.847792</td>\n",
       "      <td>11.147669</td>\n",
       "      <td>8.658418</td>\n",
       "    </tr>\n",
       "  </tbody>\n",
       "</table>\n",
       "</div>"
      ],
      "text/plain": [
       "               power      kilometer            v_0            v_1  \\\n",
       "count  150000.000000  150000.000000  150000.000000  150000.000000   \n",
       "mean      119.316547      12.597160      44.406268      -0.044809   \n",
       "std       177.168419       3.919576       2.457548       3.641893   \n",
       "min         0.000000       0.500000      30.451976      -4.295589   \n",
       "25%        75.000000      12.500000      43.135799      -3.192349   \n",
       "50%       110.000000      15.000000      44.610266      -3.052671   \n",
       "75%       150.000000      15.000000      46.004721       4.000670   \n",
       "max     19312.000000      15.000000      52.304178       7.320308   \n",
       "\n",
       "                 v_2            v_3            v_4            v_5  \\\n",
       "count  150000.000000  150000.000000  150000.000000  150000.000000   \n",
       "mean        0.080765       0.078833       0.017875       0.248204   \n",
       "std         2.929618       2.026514       1.193661       0.045804   \n",
       "min        -4.470671      -7.275037      -4.364565       0.000000   \n",
       "25%        -0.970671      -1.462580      -0.921191       0.243615   \n",
       "50%        -0.382947       0.099722      -0.075910       0.257798   \n",
       "75%         0.241335       1.565838       0.868758       0.265297   \n",
       "max        19.035496       9.854702       6.829352       0.291838   \n",
       "\n",
       "                 v_6            v_7            v_8            v_9  \\\n",
       "count  150000.000000  150000.000000  150000.000000  150000.000000   \n",
       "mean        0.044923       0.124692       0.058144       0.061996   \n",
       "std         0.051743       0.201410       0.029186       0.035692   \n",
       "min         0.000000       0.000000       0.000000       0.000000   \n",
       "25%         0.000038       0.062474       0.035334       0.033930   \n",
       "50%         0.000812       0.095866       0.057014       0.058484   \n",
       "75%         0.102009       0.125243       0.079382       0.087491   \n",
       "max         0.151420       1.404936       0.160791       0.222787   \n",
       "\n",
       "                v_10           v_11           v_12           v_13  \\\n",
       "count  150000.000000  150000.000000  150000.000000  150000.000000   \n",
       "mean       -0.001000       0.009035       0.004813       0.000313   \n",
       "std         3.772386       3.286071       2.517478       1.288988   \n",
       "min        -9.168192      -5.558207      -9.639552      -4.153899   \n",
       "25%        -3.722303      -1.951543      -1.871846      -1.057789   \n",
       "50%         1.624076      -0.358053      -0.130753      -0.036245   \n",
       "75%         2.844357       1.255022       1.776933       0.942813   \n",
       "max        12.357011      18.819042      13.847792      11.147669   \n",
       "\n",
       "                v_14  \n",
       "count  150000.000000  \n",
       "mean       -0.000688  \n",
       "std         1.038685  \n",
       "min        -6.546556  \n",
       "25%        -0.437034  \n",
       "50%         0.141246  \n",
       "75%         0.680378  \n",
       "max         8.658418  "
      ]
     },
     "execution_count": 8,
     "metadata": {},
     "output_type": "execute_result"
    }
   ],
   "source": [
    "train_df[numeric_columns].describe()"
   ]
  },
  {
   "cell_type": "markdown",
   "metadata": {},
   "source": [
    "### 3.2 histogram"
   ]
  },
  {
   "cell_type": "code",
   "execution_count": 9,
   "metadata": {},
   "outputs": [
    {
     "data": {
      "image/png": "[encoded data removed]",
      "text/plain": [
       "<Figure size 1152x864 with 20 Axes>"
      ]
     },
     "metadata": {
      "needs_background": "light"
     },
     "output_type": "display_data"
    }
   ],
   "source": [
    "train_df[numeric_columns].hist(bins=20, figsize=(16, 12))\n",
    "plt.show()"
   ]
  },
  {
   "cell_type": "markdown",
   "metadata": {},
   "source": [
    "### 3.3 correlations"
   ]
  },
  {
   "cell_type": "code",
   "execution_count": 10,
   "metadata": {},
   "outputs": [
    {
     "name": "stderr",
     "output_type": "stream",
     "text": [
      "D:\\Anaconda3\\lib\\site-packages\\seaborn\\matrix.py:287: UserWarning: Attempting to set identical left == right == 0 results in singular transformations; automatically expanding.\n",
      "  ax.set(xlim=(0, self.data.shape[1]), ylim=(0, self.data.shape[0]))\n",
      "D:\\Anaconda3\\lib\\site-packages\\seaborn\\matrix.py:287: UserWarning: Attempting to set identical bottom == top == 0 results in singular transformations; automatically expanding.\n",
      "  ax.set(xlim=(0, self.data.shape[1]), ylim=(0, self.data.shape[0]))\n"
     ]
    },
    {
     "data": {
      "text/plain": [
       "<AxesSubplot:>"
      ]
     },
     "execution_count": 10,
     "metadata": {},
     "output_type": "execute_result"
    },
    {
     "data": {
      "image/png": "[encoded data removed]",
      "text/plain": [
       "<Figure size 1440x864 with 2 Axes>"
      ]
     },
     "metadata": {
      "needs_background": "light"
     },
     "output_type": "display_data"
    }
   ],
   "source": [
    "msno.heatmap(train_df[numeric_columns].sample(10000)) # 这里我不知道问题出在哪里"
   ]
  },
  {
   "cell_type": "code",
   "execution_count": 11,
   "metadata": {},
   "outputs": [
    {
     "data": {
      "text/html": [
       "<div>\n",
       "<style scoped>\n",
       "    .dataframe tbody tr th:only-of-type {\n",
       "        vertical-align: middle;\n",
       "    }\n",
       "\n",
       "    .dataframe tbody tr th {\n",
       "        vertical-align: top;\n",
       "    }\n",
       "\n",
       "    .dataframe thead th {\n",
       "        text-align: right;\n",
       "    }\n",
       "</style>\n",
       "<table border=\"1\" class=\"dataframe\">\n",
       "  <thead>\n",
       "    <tr style=\"text-align: right;\">\n",
       "      <th></th>\n",
       "      <th>power</th>\n",
       "      <th>kilometer</th>\n",
       "      <th>v_0</th>\n",
       "      <th>v_1</th>\n",
       "      <th>v_2</th>\n",
       "      <th>v_3</th>\n",
       "      <th>v_4</th>\n",
       "      <th>v_5</th>\n",
       "      <th>v_6</th>\n",
       "      <th>v_7</th>\n",
       "      <th>v_8</th>\n",
       "      <th>v_9</th>\n",
       "      <th>v_10</th>\n",
       "      <th>v_11</th>\n",
       "      <th>v_12</th>\n",
       "      <th>v_13</th>\n",
       "      <th>v_14</th>\n",
       "    </tr>\n",
       "  </thead>\n",
       "  <tbody>\n",
       "    <tr>\n",
       "      <th>0</th>\n",
       "      <td>60</td>\n",
       "      <td>12.5</td>\n",
       "      <td>43.357796</td>\n",
       "      <td>3.966344</td>\n",
       "      <td>0.050257</td>\n",
       "      <td>2.159744</td>\n",
       "      <td>1.143786</td>\n",
       "      <td>0.235676</td>\n",
       "      <td>0.101988</td>\n",
       "      <td>0.129549</td>\n",
       "      <td>0.022816</td>\n",
       "      <td>0.097462</td>\n",
       "      <td>-2.881803</td>\n",
       "      <td>2.804097</td>\n",
       "      <td>-2.420821</td>\n",
       "      <td>0.795292</td>\n",
       "      <td>0.914762</td>\n",
       "    </tr>\n",
       "    <tr>\n",
       "      <th>1</th>\n",
       "      <td>0</td>\n",
       "      <td>15.0</td>\n",
       "      <td>45.305273</td>\n",
       "      <td>5.236112</td>\n",
       "      <td>0.137925</td>\n",
       "      <td>1.380657</td>\n",
       "      <td>-1.422165</td>\n",
       "      <td>0.264777</td>\n",
       "      <td>0.121004</td>\n",
       "      <td>0.135731</td>\n",
       "      <td>0.026597</td>\n",
       "      <td>0.020582</td>\n",
       "      <td>-4.900482</td>\n",
       "      <td>2.096338</td>\n",
       "      <td>-1.030483</td>\n",
       "      <td>-1.722674</td>\n",
       "      <td>0.245522</td>\n",
       "    </tr>\n",
       "    <tr>\n",
       "      <th>2</th>\n",
       "      <td>163</td>\n",
       "      <td>12.5</td>\n",
       "      <td>45.978359</td>\n",
       "      <td>4.823792</td>\n",
       "      <td>1.319524</td>\n",
       "      <td>-0.998467</td>\n",
       "      <td>-0.996911</td>\n",
       "      <td>0.251410</td>\n",
       "      <td>0.114912</td>\n",
       "      <td>0.165147</td>\n",
       "      <td>0.062173</td>\n",
       "      <td>0.027075</td>\n",
       "      <td>-4.846749</td>\n",
       "      <td>1.803559</td>\n",
       "      <td>1.565330</td>\n",
       "      <td>-0.832687</td>\n",
       "      <td>-0.229963</td>\n",
       "    </tr>\n",
       "    <tr>\n",
       "      <th>3</th>\n",
       "      <td>193</td>\n",
       "      <td>15.0</td>\n",
       "      <td>45.687478</td>\n",
       "      <td>4.492574</td>\n",
       "      <td>-0.050616</td>\n",
       "      <td>0.883600</td>\n",
       "      <td>-2.228079</td>\n",
       "      <td>0.274293</td>\n",
       "      <td>0.110300</td>\n",
       "      <td>0.121964</td>\n",
       "      <td>0.033395</td>\n",
       "      <td>0.000000</td>\n",
       "      <td>-4.509599</td>\n",
       "      <td>1.285940</td>\n",
       "      <td>-0.501868</td>\n",
       "      <td>-2.438353</td>\n",
       "      <td>-0.478699</td>\n",
       "    </tr>\n",
       "    <tr>\n",
       "      <th>4</th>\n",
       "      <td>68</td>\n",
       "      <td>5.0</td>\n",
       "      <td>44.383511</td>\n",
       "      <td>2.031433</td>\n",
       "      <td>0.572169</td>\n",
       "      <td>-1.571239</td>\n",
       "      <td>2.246088</td>\n",
       "      <td>0.228036</td>\n",
       "      <td>0.073205</td>\n",
       "      <td>0.091880</td>\n",
       "      <td>0.078819</td>\n",
       "      <td>0.121534</td>\n",
       "      <td>-1.896240</td>\n",
       "      <td>0.910783</td>\n",
       "      <td>0.931110</td>\n",
       "      <td>2.834518</td>\n",
       "      <td>1.923482</td>\n",
       "    </tr>\n",
       "    <tr>\n",
       "      <th>...</th>\n",
       "      <td>...</td>\n",
       "      <td>...</td>\n",
       "      <td>...</td>\n",
       "      <td>...</td>\n",
       "      <td>...</td>\n",
       "      <td>...</td>\n",
       "      <td>...</td>\n",
       "      <td>...</td>\n",
       "      <td>...</td>\n",
       "      <td>...</td>\n",
       "      <td>...</td>\n",
       "      <td>...</td>\n",
       "      <td>...</td>\n",
       "      <td>...</td>\n",
       "      <td>...</td>\n",
       "      <td>...</td>\n",
       "      <td>...</td>\n",
       "    </tr>\n",
       "    <tr>\n",
       "      <th>149995</th>\n",
       "      <td>163</td>\n",
       "      <td>15.0</td>\n",
       "      <td>45.316543</td>\n",
       "      <td>-3.139095</td>\n",
       "      <td>-1.269707</td>\n",
       "      <td>-0.736609</td>\n",
       "      <td>-1.505820</td>\n",
       "      <td>0.280264</td>\n",
       "      <td>0.000310</td>\n",
       "      <td>0.048441</td>\n",
       "      <td>0.071158</td>\n",
       "      <td>0.019174</td>\n",
       "      <td>1.988114</td>\n",
       "      <td>-2.983973</td>\n",
       "      <td>0.589167</td>\n",
       "      <td>-1.304370</td>\n",
       "      <td>-0.302592</td>\n",
       "    </tr>\n",
       "    <tr>\n",
       "      <th>149996</th>\n",
       "      <td>125</td>\n",
       "      <td>10.0</td>\n",
       "      <td>45.972058</td>\n",
       "      <td>-3.143764</td>\n",
       "      <td>-0.023523</td>\n",
       "      <td>-2.366699</td>\n",
       "      <td>0.698012</td>\n",
       "      <td>0.253217</td>\n",
       "      <td>0.000777</td>\n",
       "      <td>0.084079</td>\n",
       "      <td>0.099681</td>\n",
       "      <td>0.079371</td>\n",
       "      <td>1.839166</td>\n",
       "      <td>-2.774615</td>\n",
       "      <td>2.553994</td>\n",
       "      <td>0.924196</td>\n",
       "      <td>-0.272160</td>\n",
       "    </tr>\n",
       "    <tr>\n",
       "      <th>149997</th>\n",
       "      <td>90</td>\n",
       "      <td>6.0</td>\n",
       "      <td>44.733481</td>\n",
       "      <td>-3.105721</td>\n",
       "      <td>0.595454</td>\n",
       "      <td>-2.279091</td>\n",
       "      <td>1.423661</td>\n",
       "      <td>0.233353</td>\n",
       "      <td>0.000705</td>\n",
       "      <td>0.118872</td>\n",
       "      <td>0.100118</td>\n",
       "      <td>0.097914</td>\n",
       "      <td>2.439812</td>\n",
       "      <td>-1.630677</td>\n",
       "      <td>2.290197</td>\n",
       "      <td>1.891922</td>\n",
       "      <td>0.414931</td>\n",
       "    </tr>\n",
       "    <tr>\n",
       "      <th>149998</th>\n",
       "      <td>156</td>\n",
       "      <td>15.0</td>\n",
       "      <td>45.658634</td>\n",
       "      <td>-3.204785</td>\n",
       "      <td>-0.441680</td>\n",
       "      <td>-1.179812</td>\n",
       "      <td>0.620680</td>\n",
       "      <td>0.256369</td>\n",
       "      <td>0.000252</td>\n",
       "      <td>0.081479</td>\n",
       "      <td>0.083558</td>\n",
       "      <td>0.081498</td>\n",
       "      <td>2.075380</td>\n",
       "      <td>-2.633719</td>\n",
       "      <td>1.414937</td>\n",
       "      <td>0.431981</td>\n",
       "      <td>-1.659014</td>\n",
       "    </tr>\n",
       "    <tr>\n",
       "      <th>149999</th>\n",
       "      <td>193</td>\n",
       "      <td>12.5</td>\n",
       "      <td>45.536383</td>\n",
       "      <td>-3.200326</td>\n",
       "      <td>-1.612893</td>\n",
       "      <td>-0.067144</td>\n",
       "      <td>-1.396166</td>\n",
       "      <td>0.284475</td>\n",
       "      <td>0.000000</td>\n",
       "      <td>0.040072</td>\n",
       "      <td>0.062543</td>\n",
       "      <td>0.025819</td>\n",
       "      <td>1.978453</td>\n",
       "      <td>-3.179913</td>\n",
       "      <td>0.031724</td>\n",
       "      <td>-1.483350</td>\n",
       "      <td>-0.342674</td>\n",
       "    </tr>\n",
       "  </tbody>\n",
       "</table>\n",
       "<p>150000 rows × 17 columns</p>\n",
       "</div>"
      ],
      "text/plain": [
       "        power  kilometer        v_0       v_1       v_2       v_3       v_4  \\\n",
       "0          60       12.5  43.357796  3.966344  0.050257  2.159744  1.143786   \n",
       "1           0       15.0  45.305273  5.236112  0.137925  1.380657 -1.422165   \n",
       "2         163       12.5  45.978359  4.823792  1.319524 -0.998467 -0.996911   \n",
       "3         193       15.0  45.687478  4.492574 -0.050616  0.883600 -2.228079   \n",
       "4          68        5.0  44.383511  2.031433  0.572169 -1.571239  2.246088   \n",
       "...       ...        ...        ...       ...       ...       ...       ...   \n",
       "149995    163       15.0  45.316543 -3.139095 -1.269707 -0.736609 -1.505820   \n",
       "149996    125       10.0  45.972058 -3.143764 -0.023523 -2.366699  0.698012   \n",
       "149997     90        6.0  44.733481 -3.105721  0.595454 -2.279091  1.423661   \n",
       "149998    156       15.0  45.658634 -3.204785 -0.441680 -1.179812  0.620680   \n",
       "149999    193       12.5  45.536383 -3.200326 -1.612893 -0.067144 -1.396166   \n",
       "\n",
       "             v_5       v_6       v_7       v_8       v_9      v_10      v_11  \\\n",
       "0       0.235676  0.101988  0.129549  0.022816  0.097462 -2.881803  2.804097   \n",
       "1       0.264777  0.121004  0.135731  0.026597  0.020582 -4.900482  2.096338   \n",
       "2       0.251410  0.114912  0.165147  0.062173  0.027075 -4.846749  1.803559   \n",
       "3       0.274293  0.110300  0.121964  0.033395  0.000000 -4.509599  1.285940   \n",
       "4       0.228036  0.073205  0.091880  0.078819  0.121534 -1.896240  0.910783   \n",
       "...          ...       ...       ...       ...       ...       ...       ...   \n",
       "149995  0.280264  0.000310  0.048441  0.071158  0.019174  1.988114 -2.983973   \n",
       "149996  0.253217  0.000777  0.084079  0.099681  0.079371  1.839166 -2.774615   \n",
       "149997  0.233353  0.000705  0.118872  0.100118  0.097914  2.439812 -1.630677   \n",
       "149998  0.256369  0.000252  0.081479  0.083558  0.081498  2.075380 -2.633719   \n",
       "149999  0.284475  0.000000  0.040072  0.062543  0.025819  1.978453 -3.179913   \n",
       "\n",
       "            v_12      v_13      v_14  \n",
       "0      -2.420821  0.795292  0.914762  \n",
       "1      -1.030483 -1.722674  0.245522  \n",
       "2       1.565330 -0.832687 -0.229963  \n",
       "3      -0.501868 -2.438353 -0.478699  \n",
       "4       0.931110  2.834518  1.923482  \n",
       "...          ...       ...       ...  \n",
       "149995  0.589167 -1.304370 -0.302592  \n",
       "149996  2.553994  0.924196 -0.272160  \n",
       "149997  2.290197  1.891922  0.414931  \n",
       "149998  1.414937  0.431981 -1.659014  \n",
       "149999  0.031724 -1.483350 -0.342674  \n",
       "\n",
       "[150000 rows x 17 columns]"
      ]
     },
     "execution_count": 11,
     "metadata": {},
     "output_type": "execute_result"
    }
   ],
   "source": [
    "train_df[numeric_columns]"
   ]
  },
  {
   "cell_type": "markdown",
   "metadata": {},
   "source": [
    "## 4. explore categorical columns"
   ]
  },
  {
   "cell_type": "code",
   "execution_count": 12,
   "metadata": {},
   "outputs": [
    {
     "data": {
      "image/png": "[encoded data removed]",
      "text/plain": [
       "<Figure size 1152x576 with 6 Axes>"
      ]
     },
     "metadata": {
      "needs_background": "light"
     },
     "output_type": "display_data"
    }
   ],
   "source": [
    "train_df[categorical_columns].hist(bins=20, figsize=(16, 8))\n",
    "plt.show()"
   ]
  }
 ],
 "metadata": {
  "kernelspec": {
   "display_name": "Python 3",
   "language": "python",
   "name": "python3"
  },
  "language_info": {
   "codemirror_mode": {
    "name": "ipython",
    "version": 3
   },
   "file_extension": ".py",
   "mimetype": "text/x-python",
   "name": "python",
   "nbconvert_exporter": "python",
   "pygments_lexer": "ipython3",
   "version": "3.7.4"
  },
  "toc": {
   "base_numbering": 1,
   "nav_menu": {},
   "number_sections": false,
   "sideBar": true,
   "skip_h1_title": false,
   "title_cell": "Table of Contents",
   "title_sidebar": "Contents",
   "toc_cell": true,
   "toc_position": {
    "height": "calc(100% - 180px)",
    "left": "10px",
    "top": "150px",
    "width": "307.2px"
   },
   "toc_section_display": true,
   "toc_window_display": true
  }
 },
 "nbformat": 4,
 "nbformat_minor": 2
}
