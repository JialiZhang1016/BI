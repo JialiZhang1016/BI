{
 "cells": [
  {
   "cell_type": "markdown",
   "metadata": {
    "toc": true
   },
   "source": [
    "<h1>Table of Contents<span class=\"tocSkip\"></span></h1>\n",
    "<div class=\"toc\"><ul class=\"toc-item\"><li><span><a href=\"#1.-loading-data\" data-toc-modified-id=\"1.-loading-data-1\">1. loading data</a></span></li><li><span><a href=\"#2.-creating-graph-and-training\" data-toc-modified-id=\"2.-creating-graph-and-training-2\">2. creating graph and training</a></span></li><li><span><a href=\"#3.-visualization\" data-toc-modified-id=\"3.-visualization-3\">3. visualization</a></span></li></ul></div>"
   ]
  },
  {
   "cell_type": "code",
   "execution_count": 1,
   "metadata": {},
   "outputs": [],
   "source": [
    "import pandas as pd\n",
    "from node2vec import Node2Vec\n",
    "import networkx as nx\n",
    "from sklearn.preprocessing import MinMaxScaler\n",
    "from sklearn.decomposition import PCA\n",
    "import matplotlib.pyplot as plt\n",
    "import numpy as np"
   ]
  },
  {
   "cell_type": "markdown",
   "metadata": {},
   "source": [
    "## 1. loading data"
   ]
  },
  {
   "cell_type": "code",
   "execution_count": 2,
   "metadata": {},
   "outputs": [
    {
     "data": {
      "text/html": [
       "<div>\n",
       "<style scoped>\n",
       "    .dataframe tbody tr th:only-of-type {\n",
       "        vertical-align: middle;\n",
       "    }\n",
       "\n",
       "    .dataframe tbody tr th {\n",
       "        vertical-align: top;\n",
       "    }\n",
       "\n",
       "    .dataframe thead th {\n",
       "        text-align: right;\n",
       "    }\n",
       "</style>\n",
       "<table border=\"1\" class=\"dataframe\">\n",
       "  <thead>\n",
       "    <tr style=\"text-align: right;\">\n",
       "      <th></th>\n",
       "      <th>source</th>\n",
       "      <th>target</th>\n",
       "      <th>depth</th>\n",
       "    </tr>\n",
       "  </thead>\n",
       "  <tbody>\n",
       "    <tr>\n",
       "      <td>0</td>\n",
       "      <td>life insurance</td>\n",
       "      <td>corporate-owned life insurance</td>\n",
       "      <td>1</td>\n",
       "    </tr>\n",
       "    <tr>\n",
       "      <td>1</td>\n",
       "      <td>life insurance</td>\n",
       "      <td>critical illness insurance</td>\n",
       "      <td>1</td>\n",
       "    </tr>\n",
       "    <tr>\n",
       "      <td>2</td>\n",
       "      <td>life insurance</td>\n",
       "      <td>economic capital</td>\n",
       "      <td>1</td>\n",
       "    </tr>\n",
       "    <tr>\n",
       "      <td>3</td>\n",
       "      <td>life insurance</td>\n",
       "      <td>estate planning</td>\n",
       "      <td>1</td>\n",
       "    </tr>\n",
       "    <tr>\n",
       "      <td>4</td>\n",
       "      <td>life insurance</td>\n",
       "      <td>false insurance claims</td>\n",
       "      <td>1</td>\n",
       "    </tr>\n",
       "  </tbody>\n",
       "</table>\n",
       "</div>"
      ],
      "text/plain": [
       "           source                          target  depth\n",
       "0  life insurance  corporate-owned life insurance      1\n",
       "1  life insurance      critical illness insurance      1\n",
       "2  life insurance                economic capital      1\n",
       "3  life insurance                 estate planning      1\n",
       "4  life insurance          false insurance claims      1"
      ]
     },
     "execution_count": 2,
     "metadata": {},
     "output_type": "execute_result"
    }
   ],
   "source": [
    "data = pd.read_csv('./seealsology-data.tsv', sep='\\t')\n",
    "data.head(5)"
   ]
  },
  {
   "cell_type": "code",
   "execution_count": 3,
   "metadata": {},
   "outputs": [
    {
     "data": {
      "text/html": [
       "<div>\n",
       "<style scoped>\n",
       "    .dataframe tbody tr th:only-of-type {\n",
       "        vertical-align: middle;\n",
       "    }\n",
       "\n",
       "    .dataframe tbody tr th {\n",
       "        vertical-align: top;\n",
       "    }\n",
       "\n",
       "    .dataframe thead th {\n",
       "        text-align: right;\n",
       "    }\n",
       "</style>\n",
       "<table border=\"1\" class=\"dataframe\">\n",
       "  <thead>\n",
       "    <tr style=\"text-align: right;\">\n",
       "      <th></th>\n",
       "      <th>source</th>\n",
       "      <th>target</th>\n",
       "      <th>depth</th>\n",
       "    </tr>\n",
       "  </thead>\n",
       "  <tbody>\n",
       "    <tr>\n",
       "      <td>3739</td>\n",
       "      <td>health system</td>\n",
       "      <td>two-tier health care</td>\n",
       "      <td>4</td>\n",
       "    </tr>\n",
       "    <tr>\n",
       "      <td>3740</td>\n",
       "      <td>health system</td>\n",
       "      <td>universal health care</td>\n",
       "      <td>4</td>\n",
       "    </tr>\n",
       "    <tr>\n",
       "      <td>3741</td>\n",
       "      <td>health administration</td>\n",
       "      <td>master of health administration</td>\n",
       "      <td>4</td>\n",
       "    </tr>\n",
       "    <tr>\n",
       "      <td>3742</td>\n",
       "      <td>health administration</td>\n",
       "      <td>nosokinetics</td>\n",
       "      <td>4</td>\n",
       "    </tr>\n",
       "    <tr>\n",
       "      <td>3743</td>\n",
       "      <td>ansi 834 enrollment implementation format</td>\n",
       "      <td>x12 document list</td>\n",
       "      <td>4</td>\n",
       "    </tr>\n",
       "  </tbody>\n",
       "</table>\n",
       "</div>"
      ],
      "text/plain": [
       "                                         source  \\\n",
       "3739                              health system   \n",
       "3740                              health system   \n",
       "3741                      health administration   \n",
       "3742                      health administration   \n",
       "3743  ansi 834 enrollment implementation format   \n",
       "\n",
       "                               target  depth  \n",
       "3739             two-tier health care      4  \n",
       "3740            universal health care      4  \n",
       "3741  master of health administration      4  \n",
       "3742                     nosokinetics      4  \n",
       "3743                x12 document list      4  "
      ]
     },
     "execution_count": 3,
     "metadata": {},
     "output_type": "execute_result"
    }
   ],
   "source": [
    "data.tail(5)"
   ]
  },
  {
   "cell_type": "markdown",
   "metadata": {},
   "source": [
    "## 2. creating graph and training"
   ]
  },
  {
   "cell_type": "code",
   "execution_count": 4,
   "metadata": {},
   "outputs": [],
   "source": [
    "# set weight\n",
    "data['weight'] = data['depth'].map({1: 1, 2: 0.75, 3: 0.5, 4: 0.25})\n",
    "\n",
    "# create graph\n",
    "Graph = nx.DiGraph()\n",
    "Graph.add_weighted_edges_from([(i,j,k) for i, j, k in zip(data['source'], data['target'], data['weight'])])\n",
    "\n",
    "dim = 128\n",
    "\n",
    "# random walk\n",
    "model_random = Node2Vec(Graph, dimensions=dim, walk_length=5, num_walks=15, p=1, q=1, quiet=True)\n",
    "result_random = model_random.fit(window=3, iter=20)\n",
    "\n",
    "# BFS\n",
    "model_BFS = Node2Vec(Graph, dimensions=dim, walk_length=5, num_walks=15, p=0.5, q=3, quiet=True)\n",
    "result_BFS = model_BFS.fit(window=3, iter=20)\n",
    "\n",
    "# DFS\n",
    "model_DFS = Node2Vec(Graph, dimensions=dim, walk_length=5, num_walks=15, p=3, q=0.5, quiet=True)\n",
    "result_DFS = model_DFS.fit(window=3, iter=20)"
   ]
  },
  {
   "cell_type": "code",
   "execution_count": 5,
   "metadata": {},
   "outputs": [
    {
     "name": "stdout",
     "output_type": "stream",
     "text": [
      "RAN ('whole life insurance', 0.9986088275909424)\n",
      "BFS ('internal revenue code section 79', 0.9984707832336426)\n",
      "DFS ('health insurance', 0.9988100528717041)\n"
     ]
    }
   ],
   "source": [
    "# similar to critical illness insurance\n",
    "print('RAN', result_random.wv.most_similar('critical illness insurance')[0])\n",
    "print('BFS', result_BFS.wv.most_similar('critical illness insurance')[0])\n",
    "print('DFS', result_DFS.wv.most_similar('critical illness insurance')[0])"
   ]
  },
  {
   "cell_type": "markdown",
   "metadata": {},
   "source": [
    "## 3. visualization"
   ]
  },
  {
   "cell_type": "code",
   "execution_count": 6,
   "metadata": {},
   "outputs": [
    {
     "data": {
      "image/png": "[encoded data removed]",
      "text/plain": [
       "<Figure size 1440x432 with 3 Axes>"
      ]
     },
     "metadata": {
      "needs_background": "light"
     },
     "output_type": "display_data"
    }
   ],
   "source": [
    "def scatter(result_model):\n",
    "    # embedding matrix\n",
    "    embeddings = result_model.wv\n",
    "    word_list = list(result_model.wv.vocab.keys())\n",
    "    matrix = np.array([embeddings[x] for x in word_list])\n",
    "\n",
    "    # decomposition\n",
    "    pca = PCA(n_components=2)\n",
    "    result = pca.fit_transform(matrix)\n",
    "    return result\n",
    "\n",
    "s_random = scatter(result_random)\n",
    "s_BFS = scatter(result_BFS)\n",
    "s_DFS = scatter(result_DFS)\n",
    "\n",
    "\n",
    "# visualization\n",
    "fig, ax = plt.subplots(1, 3, figsize=(20, 6), sharey=True, sharex=True)\n",
    "ax[0].scatter(s_random[:,0], s_random[:,1])\n",
    "ax[0].set_title('random')\n",
    "ax[1].scatter(s_BFS[:,0], s_BFS[:,1])\n",
    "ax[1].set_title('BFS')\n",
    "ax[2].scatter(s_DFS[:,0], s_DFS[:,1])\n",
    "ax[2].set_title('DFS')\n",
    "plt.show()"
   ]
  }
 ],
 "metadata": {
  "kernelspec": {
   "display_name": "Python 3",
   "language": "python",
   "name": "python3"
  },
  "language_info": {
   "codemirror_mode": {
    "name": "ipython",
    "version": 3
   },
   "file_extension": ".py",
   "mimetype": "text/x-python",
   "name": "python",
   "nbconvert_exporter": "python",
   "pygments_lexer": "ipython3",
   "version": "3.7.4"
  },
  "toc": {
   "base_numbering": 1,
   "nav_menu": {},
   "number_sections": false,
   "sideBar": true,
   "skip_h1_title": false,
   "title_cell": "Table of Contents",
   "title_sidebar": "Contents",
   "toc_cell": true,
   "toc_position": {},
   "toc_section_display": true,
   "toc_window_display": true
  }
 },
 "nbformat": 4,
 "nbformat_minor": 2
}
